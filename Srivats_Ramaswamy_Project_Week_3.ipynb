{
  "nbformat": 4,
  "nbformat_minor": 0,
  "metadata": {
    "colab": {
      "name": "Srivats Ramaswamy - Project Week 3.ipynb",
      "provenance": [],
      "collapsed_sections": []
    },
    "kernelspec": {
      "name": "python3",
      "display_name": "Python 3"
    },
    "language_info": {
      "name": "python"
    }
  },
  "cells": [
    {
      "cell_type": "code",
      "metadata": {
        "id": "42aOFBqtNLiM"
      },
      "source": [
        "import numpy as np\n",
        "import pandas as pd\n",
        "from sklearn.tree import DecisionTreeClassifier   \n",
        "from sklearn.model_selection import train_test_split,GridSearchCV,KFold\n",
        "from sklearn import metrics\n",
        "from sklearn.metrics import accuracy_score,confusion_matrix,precision_score,classification_report\n",
        "from sklearn.datasets import load_breast_cancer\n",
        "from sklearn.ensemble import RandomForestClassifier,GradientBoostingClassifier\n",
        "from sklearn.neighbors import KNeighborsClassifier"
      ],
      "execution_count": 1,
      "outputs": []
    },
    {
      "cell_type": "markdown",
      "metadata": {
        "id": "1CiFcDrEj7M1"
      },
      "source": [
        "# **Importing the dataset** "
      ]
    },
    {
      "cell_type": "code",
      "metadata": {
        "id": "97bynAkQh-jb"
      },
      "source": [
        "\n",
        "df = pd.DataFrame(load_breast_cancer()['data'],columns=load_breast_cancer()['feature_names'])\n",
        "df['y'] = load_breast_cancer()['target']"
      ],
      "execution_count": 2,
      "outputs": []
    },
    {
      "cell_type": "markdown",
      "metadata": {
        "id": "sbwU78q1unAR"
      },
      "source": [
        "# **Data Preprocessing**"
      ]
    },
    {
      "cell_type": "code",
      "metadata": {
        "colab": {
          "base_uri": "https://localhost:8080/",
          "height": 258
        },
        "id": "l-f_iNl-vn7n",
        "outputId": "e85e7db1-3fd0-432a-832d-28f32c4757d2"
      },
      "source": [
        "df.head()"
      ],
      "execution_count": 3,
      "outputs": [
        {
          "output_type": "execute_result",
          "data": {
            "text/html": [
              "<div>\n",
              "<style scoped>\n",
              "    .dataframe tbody tr th:only-of-type {\n",
              "        vertical-align: middle;\n",
              "    }\n",
              "\n",
              "    .dataframe tbody tr th {\n",
              "        vertical-align: top;\n",
              "    }\n",
              "\n",
              "    .dataframe thead th {\n",
              "        text-align: right;\n",
              "    }\n",
              "</style>\n",
              "<table border=\"1\" class=\"dataframe\">\n",
              "  <thead>\n",
              "    <tr style=\"text-align: right;\">\n",
              "      <th></th>\n",
              "      <th>mean radius</th>\n",
              "      <th>mean texture</th>\n",
              "      <th>mean perimeter</th>\n",
              "      <th>mean area</th>\n",
              "      <th>mean smoothness</th>\n",
              "      <th>mean compactness</th>\n",
              "      <th>mean concavity</th>\n",
              "      <th>mean concave points</th>\n",
              "      <th>mean symmetry</th>\n",
              "      <th>mean fractal dimension</th>\n",
              "      <th>radius error</th>\n",
              "      <th>texture error</th>\n",
              "      <th>perimeter error</th>\n",
              "      <th>area error</th>\n",
              "      <th>smoothness error</th>\n",
              "      <th>compactness error</th>\n",
              "      <th>concavity error</th>\n",
              "      <th>concave points error</th>\n",
              "      <th>symmetry error</th>\n",
              "      <th>fractal dimension error</th>\n",
              "      <th>worst radius</th>\n",
              "      <th>worst texture</th>\n",
              "      <th>worst perimeter</th>\n",
              "      <th>worst area</th>\n",
              "      <th>worst smoothness</th>\n",
              "      <th>worst compactness</th>\n",
              "      <th>worst concavity</th>\n",
              "      <th>worst concave points</th>\n",
              "      <th>worst symmetry</th>\n",
              "      <th>worst fractal dimension</th>\n",
              "      <th>y</th>\n",
              "    </tr>\n",
              "  </thead>\n",
              "  <tbody>\n",
              "    <tr>\n",
              "      <th>0</th>\n",
              "      <td>17.99</td>\n",
              "      <td>10.38</td>\n",
              "      <td>122.80</td>\n",
              "      <td>1001.0</td>\n",
              "      <td>0.11840</td>\n",
              "      <td>0.27760</td>\n",
              "      <td>0.3001</td>\n",
              "      <td>0.14710</td>\n",
              "      <td>0.2419</td>\n",
              "      <td>0.07871</td>\n",
              "      <td>1.0950</td>\n",
              "      <td>0.9053</td>\n",
              "      <td>8.589</td>\n",
              "      <td>153.40</td>\n",
              "      <td>0.006399</td>\n",
              "      <td>0.04904</td>\n",
              "      <td>0.05373</td>\n",
              "      <td>0.01587</td>\n",
              "      <td>0.03003</td>\n",
              "      <td>0.006193</td>\n",
              "      <td>25.38</td>\n",
              "      <td>17.33</td>\n",
              "      <td>184.60</td>\n",
              "      <td>2019.0</td>\n",
              "      <td>0.1622</td>\n",
              "      <td>0.6656</td>\n",
              "      <td>0.7119</td>\n",
              "      <td>0.2654</td>\n",
              "      <td>0.4601</td>\n",
              "      <td>0.11890</td>\n",
              "      <td>0</td>\n",
              "    </tr>\n",
              "    <tr>\n",
              "      <th>1</th>\n",
              "      <td>20.57</td>\n",
              "      <td>17.77</td>\n",
              "      <td>132.90</td>\n",
              "      <td>1326.0</td>\n",
              "      <td>0.08474</td>\n",
              "      <td>0.07864</td>\n",
              "      <td>0.0869</td>\n",
              "      <td>0.07017</td>\n",
              "      <td>0.1812</td>\n",
              "      <td>0.05667</td>\n",
              "      <td>0.5435</td>\n",
              "      <td>0.7339</td>\n",
              "      <td>3.398</td>\n",
              "      <td>74.08</td>\n",
              "      <td>0.005225</td>\n",
              "      <td>0.01308</td>\n",
              "      <td>0.01860</td>\n",
              "      <td>0.01340</td>\n",
              "      <td>0.01389</td>\n",
              "      <td>0.003532</td>\n",
              "      <td>24.99</td>\n",
              "      <td>23.41</td>\n",
              "      <td>158.80</td>\n",
              "      <td>1956.0</td>\n",
              "      <td>0.1238</td>\n",
              "      <td>0.1866</td>\n",
              "      <td>0.2416</td>\n",
              "      <td>0.1860</td>\n",
              "      <td>0.2750</td>\n",
              "      <td>0.08902</td>\n",
              "      <td>0</td>\n",
              "    </tr>\n",
              "    <tr>\n",
              "      <th>2</th>\n",
              "      <td>19.69</td>\n",
              "      <td>21.25</td>\n",
              "      <td>130.00</td>\n",
              "      <td>1203.0</td>\n",
              "      <td>0.10960</td>\n",
              "      <td>0.15990</td>\n",
              "      <td>0.1974</td>\n",
              "      <td>0.12790</td>\n",
              "      <td>0.2069</td>\n",
              "      <td>0.05999</td>\n",
              "      <td>0.7456</td>\n",
              "      <td>0.7869</td>\n",
              "      <td>4.585</td>\n",
              "      <td>94.03</td>\n",
              "      <td>0.006150</td>\n",
              "      <td>0.04006</td>\n",
              "      <td>0.03832</td>\n",
              "      <td>0.02058</td>\n",
              "      <td>0.02250</td>\n",
              "      <td>0.004571</td>\n",
              "      <td>23.57</td>\n",
              "      <td>25.53</td>\n",
              "      <td>152.50</td>\n",
              "      <td>1709.0</td>\n",
              "      <td>0.1444</td>\n",
              "      <td>0.4245</td>\n",
              "      <td>0.4504</td>\n",
              "      <td>0.2430</td>\n",
              "      <td>0.3613</td>\n",
              "      <td>0.08758</td>\n",
              "      <td>0</td>\n",
              "    </tr>\n",
              "    <tr>\n",
              "      <th>3</th>\n",
              "      <td>11.42</td>\n",
              "      <td>20.38</td>\n",
              "      <td>77.58</td>\n",
              "      <td>386.1</td>\n",
              "      <td>0.14250</td>\n",
              "      <td>0.28390</td>\n",
              "      <td>0.2414</td>\n",
              "      <td>0.10520</td>\n",
              "      <td>0.2597</td>\n",
              "      <td>0.09744</td>\n",
              "      <td>0.4956</td>\n",
              "      <td>1.1560</td>\n",
              "      <td>3.445</td>\n",
              "      <td>27.23</td>\n",
              "      <td>0.009110</td>\n",
              "      <td>0.07458</td>\n",
              "      <td>0.05661</td>\n",
              "      <td>0.01867</td>\n",
              "      <td>0.05963</td>\n",
              "      <td>0.009208</td>\n",
              "      <td>14.91</td>\n",
              "      <td>26.50</td>\n",
              "      <td>98.87</td>\n",
              "      <td>567.7</td>\n",
              "      <td>0.2098</td>\n",
              "      <td>0.8663</td>\n",
              "      <td>0.6869</td>\n",
              "      <td>0.2575</td>\n",
              "      <td>0.6638</td>\n",
              "      <td>0.17300</td>\n",
              "      <td>0</td>\n",
              "    </tr>\n",
              "    <tr>\n",
              "      <th>4</th>\n",
              "      <td>20.29</td>\n",
              "      <td>14.34</td>\n",
              "      <td>135.10</td>\n",
              "      <td>1297.0</td>\n",
              "      <td>0.10030</td>\n",
              "      <td>0.13280</td>\n",
              "      <td>0.1980</td>\n",
              "      <td>0.10430</td>\n",
              "      <td>0.1809</td>\n",
              "      <td>0.05883</td>\n",
              "      <td>0.7572</td>\n",
              "      <td>0.7813</td>\n",
              "      <td>5.438</td>\n",
              "      <td>94.44</td>\n",
              "      <td>0.011490</td>\n",
              "      <td>0.02461</td>\n",
              "      <td>0.05688</td>\n",
              "      <td>0.01885</td>\n",
              "      <td>0.01756</td>\n",
              "      <td>0.005115</td>\n",
              "      <td>22.54</td>\n",
              "      <td>16.67</td>\n",
              "      <td>152.20</td>\n",
              "      <td>1575.0</td>\n",
              "      <td>0.1374</td>\n",
              "      <td>0.2050</td>\n",
              "      <td>0.4000</td>\n",
              "      <td>0.1625</td>\n",
              "      <td>0.2364</td>\n",
              "      <td>0.07678</td>\n",
              "      <td>0</td>\n",
              "    </tr>\n",
              "  </tbody>\n",
              "</table>\n",
              "</div>"
            ],
            "text/plain": [
              "   mean radius  mean texture  ...  worst fractal dimension  y\n",
              "0        17.99         10.38  ...                  0.11890  0\n",
              "1        20.57         17.77  ...                  0.08902  0\n",
              "2        19.69         21.25  ...                  0.08758  0\n",
              "3        11.42         20.38  ...                  0.17300  0\n",
              "4        20.29         14.34  ...                  0.07678  0\n",
              "\n",
              "[5 rows x 31 columns]"
            ]
          },
          "metadata": {
            "tags": []
          },
          "execution_count": 3
        }
      ]
    },
    {
      "cell_type": "code",
      "metadata": {
        "colab": {
          "base_uri": "https://localhost:8080/"
        },
        "id": "jKiTQVzqxeVj",
        "outputId": "ba9566d3-321e-4e4e-bf5d-c31260f9d3fd"
      },
      "source": [
        "df.info()"
      ],
      "execution_count": 4,
      "outputs": [
        {
          "output_type": "stream",
          "text": [
            "<class 'pandas.core.frame.DataFrame'>\n",
            "RangeIndex: 569 entries, 0 to 568\n",
            "Data columns (total 31 columns):\n",
            " #   Column                   Non-Null Count  Dtype  \n",
            "---  ------                   --------------  -----  \n",
            " 0   mean radius              569 non-null    float64\n",
            " 1   mean texture             569 non-null    float64\n",
            " 2   mean perimeter           569 non-null    float64\n",
            " 3   mean area                569 non-null    float64\n",
            " 4   mean smoothness          569 non-null    float64\n",
            " 5   mean compactness         569 non-null    float64\n",
            " 6   mean concavity           569 non-null    float64\n",
            " 7   mean concave points      569 non-null    float64\n",
            " 8   mean symmetry            569 non-null    float64\n",
            " 9   mean fractal dimension   569 non-null    float64\n",
            " 10  radius error             569 non-null    float64\n",
            " 11  texture error            569 non-null    float64\n",
            " 12  perimeter error          569 non-null    float64\n",
            " 13  area error               569 non-null    float64\n",
            " 14  smoothness error         569 non-null    float64\n",
            " 15  compactness error        569 non-null    float64\n",
            " 16  concavity error          569 non-null    float64\n",
            " 17  concave points error     569 non-null    float64\n",
            " 18  symmetry error           569 non-null    float64\n",
            " 19  fractal dimension error  569 non-null    float64\n",
            " 20  worst radius             569 non-null    float64\n",
            " 21  worst texture            569 non-null    float64\n",
            " 22  worst perimeter          569 non-null    float64\n",
            " 23  worst area               569 non-null    float64\n",
            " 24  worst smoothness         569 non-null    float64\n",
            " 25  worst compactness        569 non-null    float64\n",
            " 26  worst concavity          569 non-null    float64\n",
            " 27  worst concave points     569 non-null    float64\n",
            " 28  worst symmetry           569 non-null    float64\n",
            " 29  worst fractal dimension  569 non-null    float64\n",
            " 30  y                        569 non-null    int64  \n",
            "dtypes: float64(30), int64(1)\n",
            "memory usage: 137.9 KB\n"
          ],
          "name": "stdout"
        }
      ]
    },
    {
      "cell_type": "code",
      "metadata": {
        "colab": {
          "base_uri": "https://localhost:8080/",
          "height": 351
        },
        "id": "znT4Iz9AxiM1",
        "outputId": "50d967b4-904d-499d-f27d-c96930fd5c1a"
      },
      "source": [
        "df.describe()"
      ],
      "execution_count": 5,
      "outputs": [
        {
          "output_type": "execute_result",
          "data": {
            "text/html": [
              "<div>\n",
              "<style scoped>\n",
              "    .dataframe tbody tr th:only-of-type {\n",
              "        vertical-align: middle;\n",
              "    }\n",
              "\n",
              "    .dataframe tbody tr th {\n",
              "        vertical-align: top;\n",
              "    }\n",
              "\n",
              "    .dataframe thead th {\n",
              "        text-align: right;\n",
              "    }\n",
              "</style>\n",
              "<table border=\"1\" class=\"dataframe\">\n",
              "  <thead>\n",
              "    <tr style=\"text-align: right;\">\n",
              "      <th></th>\n",
              "      <th>mean radius</th>\n",
              "      <th>mean texture</th>\n",
              "      <th>mean perimeter</th>\n",
              "      <th>mean area</th>\n",
              "      <th>mean smoothness</th>\n",
              "      <th>mean compactness</th>\n",
              "      <th>mean concavity</th>\n",
              "      <th>mean concave points</th>\n",
              "      <th>mean symmetry</th>\n",
              "      <th>mean fractal dimension</th>\n",
              "      <th>radius error</th>\n",
              "      <th>texture error</th>\n",
              "      <th>perimeter error</th>\n",
              "      <th>area error</th>\n",
              "      <th>smoothness error</th>\n",
              "      <th>compactness error</th>\n",
              "      <th>concavity error</th>\n",
              "      <th>concave points error</th>\n",
              "      <th>symmetry error</th>\n",
              "      <th>fractal dimension error</th>\n",
              "      <th>worst radius</th>\n",
              "      <th>worst texture</th>\n",
              "      <th>worst perimeter</th>\n",
              "      <th>worst area</th>\n",
              "      <th>worst smoothness</th>\n",
              "      <th>worst compactness</th>\n",
              "      <th>worst concavity</th>\n",
              "      <th>worst concave points</th>\n",
              "      <th>worst symmetry</th>\n",
              "      <th>worst fractal dimension</th>\n",
              "      <th>y</th>\n",
              "    </tr>\n",
              "  </thead>\n",
              "  <tbody>\n",
              "    <tr>\n",
              "      <th>count</th>\n",
              "      <td>569.000000</td>\n",
              "      <td>569.000000</td>\n",
              "      <td>569.000000</td>\n",
              "      <td>569.000000</td>\n",
              "      <td>569.000000</td>\n",
              "      <td>569.000000</td>\n",
              "      <td>569.000000</td>\n",
              "      <td>569.000000</td>\n",
              "      <td>569.000000</td>\n",
              "      <td>569.000000</td>\n",
              "      <td>569.000000</td>\n",
              "      <td>569.000000</td>\n",
              "      <td>569.000000</td>\n",
              "      <td>569.000000</td>\n",
              "      <td>569.000000</td>\n",
              "      <td>569.000000</td>\n",
              "      <td>569.000000</td>\n",
              "      <td>569.000000</td>\n",
              "      <td>569.000000</td>\n",
              "      <td>569.000000</td>\n",
              "      <td>569.000000</td>\n",
              "      <td>569.000000</td>\n",
              "      <td>569.000000</td>\n",
              "      <td>569.000000</td>\n",
              "      <td>569.000000</td>\n",
              "      <td>569.000000</td>\n",
              "      <td>569.000000</td>\n",
              "      <td>569.000000</td>\n",
              "      <td>569.000000</td>\n",
              "      <td>569.000000</td>\n",
              "      <td>569.000000</td>\n",
              "    </tr>\n",
              "    <tr>\n",
              "      <th>mean</th>\n",
              "      <td>14.127292</td>\n",
              "      <td>19.289649</td>\n",
              "      <td>91.969033</td>\n",
              "      <td>654.889104</td>\n",
              "      <td>0.096360</td>\n",
              "      <td>0.104341</td>\n",
              "      <td>0.088799</td>\n",
              "      <td>0.048919</td>\n",
              "      <td>0.181162</td>\n",
              "      <td>0.062798</td>\n",
              "      <td>0.405172</td>\n",
              "      <td>1.216853</td>\n",
              "      <td>2.866059</td>\n",
              "      <td>40.337079</td>\n",
              "      <td>0.007041</td>\n",
              "      <td>0.025478</td>\n",
              "      <td>0.031894</td>\n",
              "      <td>0.011796</td>\n",
              "      <td>0.020542</td>\n",
              "      <td>0.003795</td>\n",
              "      <td>16.269190</td>\n",
              "      <td>25.677223</td>\n",
              "      <td>107.261213</td>\n",
              "      <td>880.583128</td>\n",
              "      <td>0.132369</td>\n",
              "      <td>0.254265</td>\n",
              "      <td>0.272188</td>\n",
              "      <td>0.114606</td>\n",
              "      <td>0.290076</td>\n",
              "      <td>0.083946</td>\n",
              "      <td>0.627417</td>\n",
              "    </tr>\n",
              "    <tr>\n",
              "      <th>std</th>\n",
              "      <td>3.524049</td>\n",
              "      <td>4.301036</td>\n",
              "      <td>24.298981</td>\n",
              "      <td>351.914129</td>\n",
              "      <td>0.014064</td>\n",
              "      <td>0.052813</td>\n",
              "      <td>0.079720</td>\n",
              "      <td>0.038803</td>\n",
              "      <td>0.027414</td>\n",
              "      <td>0.007060</td>\n",
              "      <td>0.277313</td>\n",
              "      <td>0.551648</td>\n",
              "      <td>2.021855</td>\n",
              "      <td>45.491006</td>\n",
              "      <td>0.003003</td>\n",
              "      <td>0.017908</td>\n",
              "      <td>0.030186</td>\n",
              "      <td>0.006170</td>\n",
              "      <td>0.008266</td>\n",
              "      <td>0.002646</td>\n",
              "      <td>4.833242</td>\n",
              "      <td>6.146258</td>\n",
              "      <td>33.602542</td>\n",
              "      <td>569.356993</td>\n",
              "      <td>0.022832</td>\n",
              "      <td>0.157336</td>\n",
              "      <td>0.208624</td>\n",
              "      <td>0.065732</td>\n",
              "      <td>0.061867</td>\n",
              "      <td>0.018061</td>\n",
              "      <td>0.483918</td>\n",
              "    </tr>\n",
              "    <tr>\n",
              "      <th>min</th>\n",
              "      <td>6.981000</td>\n",
              "      <td>9.710000</td>\n",
              "      <td>43.790000</td>\n",
              "      <td>143.500000</td>\n",
              "      <td>0.052630</td>\n",
              "      <td>0.019380</td>\n",
              "      <td>0.000000</td>\n",
              "      <td>0.000000</td>\n",
              "      <td>0.106000</td>\n",
              "      <td>0.049960</td>\n",
              "      <td>0.111500</td>\n",
              "      <td>0.360200</td>\n",
              "      <td>0.757000</td>\n",
              "      <td>6.802000</td>\n",
              "      <td>0.001713</td>\n",
              "      <td>0.002252</td>\n",
              "      <td>0.000000</td>\n",
              "      <td>0.000000</td>\n",
              "      <td>0.007882</td>\n",
              "      <td>0.000895</td>\n",
              "      <td>7.930000</td>\n",
              "      <td>12.020000</td>\n",
              "      <td>50.410000</td>\n",
              "      <td>185.200000</td>\n",
              "      <td>0.071170</td>\n",
              "      <td>0.027290</td>\n",
              "      <td>0.000000</td>\n",
              "      <td>0.000000</td>\n",
              "      <td>0.156500</td>\n",
              "      <td>0.055040</td>\n",
              "      <td>0.000000</td>\n",
              "    </tr>\n",
              "    <tr>\n",
              "      <th>25%</th>\n",
              "      <td>11.700000</td>\n",
              "      <td>16.170000</td>\n",
              "      <td>75.170000</td>\n",
              "      <td>420.300000</td>\n",
              "      <td>0.086370</td>\n",
              "      <td>0.064920</td>\n",
              "      <td>0.029560</td>\n",
              "      <td>0.020310</td>\n",
              "      <td>0.161900</td>\n",
              "      <td>0.057700</td>\n",
              "      <td>0.232400</td>\n",
              "      <td>0.833900</td>\n",
              "      <td>1.606000</td>\n",
              "      <td>17.850000</td>\n",
              "      <td>0.005169</td>\n",
              "      <td>0.013080</td>\n",
              "      <td>0.015090</td>\n",
              "      <td>0.007638</td>\n",
              "      <td>0.015160</td>\n",
              "      <td>0.002248</td>\n",
              "      <td>13.010000</td>\n",
              "      <td>21.080000</td>\n",
              "      <td>84.110000</td>\n",
              "      <td>515.300000</td>\n",
              "      <td>0.116600</td>\n",
              "      <td>0.147200</td>\n",
              "      <td>0.114500</td>\n",
              "      <td>0.064930</td>\n",
              "      <td>0.250400</td>\n",
              "      <td>0.071460</td>\n",
              "      <td>0.000000</td>\n",
              "    </tr>\n",
              "    <tr>\n",
              "      <th>50%</th>\n",
              "      <td>13.370000</td>\n",
              "      <td>18.840000</td>\n",
              "      <td>86.240000</td>\n",
              "      <td>551.100000</td>\n",
              "      <td>0.095870</td>\n",
              "      <td>0.092630</td>\n",
              "      <td>0.061540</td>\n",
              "      <td>0.033500</td>\n",
              "      <td>0.179200</td>\n",
              "      <td>0.061540</td>\n",
              "      <td>0.324200</td>\n",
              "      <td>1.108000</td>\n",
              "      <td>2.287000</td>\n",
              "      <td>24.530000</td>\n",
              "      <td>0.006380</td>\n",
              "      <td>0.020450</td>\n",
              "      <td>0.025890</td>\n",
              "      <td>0.010930</td>\n",
              "      <td>0.018730</td>\n",
              "      <td>0.003187</td>\n",
              "      <td>14.970000</td>\n",
              "      <td>25.410000</td>\n",
              "      <td>97.660000</td>\n",
              "      <td>686.500000</td>\n",
              "      <td>0.131300</td>\n",
              "      <td>0.211900</td>\n",
              "      <td>0.226700</td>\n",
              "      <td>0.099930</td>\n",
              "      <td>0.282200</td>\n",
              "      <td>0.080040</td>\n",
              "      <td>1.000000</td>\n",
              "    </tr>\n",
              "    <tr>\n",
              "      <th>75%</th>\n",
              "      <td>15.780000</td>\n",
              "      <td>21.800000</td>\n",
              "      <td>104.100000</td>\n",
              "      <td>782.700000</td>\n",
              "      <td>0.105300</td>\n",
              "      <td>0.130400</td>\n",
              "      <td>0.130700</td>\n",
              "      <td>0.074000</td>\n",
              "      <td>0.195700</td>\n",
              "      <td>0.066120</td>\n",
              "      <td>0.478900</td>\n",
              "      <td>1.474000</td>\n",
              "      <td>3.357000</td>\n",
              "      <td>45.190000</td>\n",
              "      <td>0.008146</td>\n",
              "      <td>0.032450</td>\n",
              "      <td>0.042050</td>\n",
              "      <td>0.014710</td>\n",
              "      <td>0.023480</td>\n",
              "      <td>0.004558</td>\n",
              "      <td>18.790000</td>\n",
              "      <td>29.720000</td>\n",
              "      <td>125.400000</td>\n",
              "      <td>1084.000000</td>\n",
              "      <td>0.146000</td>\n",
              "      <td>0.339100</td>\n",
              "      <td>0.382900</td>\n",
              "      <td>0.161400</td>\n",
              "      <td>0.317900</td>\n",
              "      <td>0.092080</td>\n",
              "      <td>1.000000</td>\n",
              "    </tr>\n",
              "    <tr>\n",
              "      <th>max</th>\n",
              "      <td>28.110000</td>\n",
              "      <td>39.280000</td>\n",
              "      <td>188.500000</td>\n",
              "      <td>2501.000000</td>\n",
              "      <td>0.163400</td>\n",
              "      <td>0.345400</td>\n",
              "      <td>0.426800</td>\n",
              "      <td>0.201200</td>\n",
              "      <td>0.304000</td>\n",
              "      <td>0.097440</td>\n",
              "      <td>2.873000</td>\n",
              "      <td>4.885000</td>\n",
              "      <td>21.980000</td>\n",
              "      <td>542.200000</td>\n",
              "      <td>0.031130</td>\n",
              "      <td>0.135400</td>\n",
              "      <td>0.396000</td>\n",
              "      <td>0.052790</td>\n",
              "      <td>0.078950</td>\n",
              "      <td>0.029840</td>\n",
              "      <td>36.040000</td>\n",
              "      <td>49.540000</td>\n",
              "      <td>251.200000</td>\n",
              "      <td>4254.000000</td>\n",
              "      <td>0.222600</td>\n",
              "      <td>1.058000</td>\n",
              "      <td>1.252000</td>\n",
              "      <td>0.291000</td>\n",
              "      <td>0.663800</td>\n",
              "      <td>0.207500</td>\n",
              "      <td>1.000000</td>\n",
              "    </tr>\n",
              "  </tbody>\n",
              "</table>\n",
              "</div>"
            ],
            "text/plain": [
              "       mean radius  mean texture  ...  worst fractal dimension           y\n",
              "count   569.000000    569.000000  ...               569.000000  569.000000\n",
              "mean     14.127292     19.289649  ...                 0.083946    0.627417\n",
              "std       3.524049      4.301036  ...                 0.018061    0.483918\n",
              "min       6.981000      9.710000  ...                 0.055040    0.000000\n",
              "25%      11.700000     16.170000  ...                 0.071460    0.000000\n",
              "50%      13.370000     18.840000  ...                 0.080040    1.000000\n",
              "75%      15.780000     21.800000  ...                 0.092080    1.000000\n",
              "max      28.110000     39.280000  ...                 0.207500    1.000000\n",
              "\n",
              "[8 rows x 31 columns]"
            ]
          },
          "metadata": {
            "tags": []
          },
          "execution_count": 5
        }
      ]
    },
    {
      "cell_type": "markdown",
      "metadata": {
        "id": "izRDVRAq09sG"
      },
      "source": [
        "### Spliting the data into training and testing data"
      ]
    },
    {
      "cell_type": "code",
      "metadata": {
        "id": "fAOvtWpnyb67"
      },
      "source": [
        "#Seperating the features from the label\n",
        "features=df.drop(columns=['y'],axis=1)\n",
        "feature_list=list(features.columns)\n",
        "X=df[feature_list]\n",
        "y=df['y']\n",
        "\n",
        "X_train,X_test,y_train,y_test=train_test_split(X,y,test_size=0.2,random_state=1)"
      ],
      "execution_count": 6,
      "outputs": []
    },
    {
      "cell_type": "markdown",
      "metadata": {
        "id": "wYEcpLJD1XsL"
      },
      "source": [
        "# 3 .) Implementation of the Classification Models "
      ]
    },
    {
      "cell_type": "markdown",
      "metadata": {
        "id": "urRmXicp1f6P"
      },
      "source": [
        "## a.) Decision Tree Classifier"
      ]
    },
    {
      "cell_type": "code",
      "metadata": {
        "colab": {
          "base_uri": "https://localhost:8080/"
        },
        "id": "zr1mt2dyxkpa",
        "outputId": "6199bbb7-5353-4050-ee33-2172062db620"
      },
      "source": [
        "#Building a Decision Tree Classifier object\n",
        "DesTreeClf=DecisionTreeClassifier()\n",
        "\n",
        "#Fitting the Decision Tree Model\n",
        "dtModel=DesTreeClf.fit(X_train,y_train)\n",
        "\n",
        "#Let us make some predictions to understand the accuracies of the training and testing predictions\n",
        "\n",
        "y_train_pred=dtModel.predict(X_train)\n",
        "y_test_pred=dtModel.predict(X_test)\n",
        "\n",
        "print('The accuracy of the training model:',accuracy_score(y_train,y_train_pred)) \n",
        "print('The accuracy of the testing model:',accuracy_score(y_test,y_test_pred)) \n"
      ],
      "execution_count": 7,
      "outputs": [
        {
          "output_type": "stream",
          "text": [
            "The accuracy of the training model: 1.0\n",
            "The accuracy of the testing model: 0.9473684210526315\n"
          ],
          "name": "stdout"
        }
      ]
    },
    {
      "cell_type": "markdown",
      "metadata": {
        "id": "HfLyvW3fCtie"
      },
      "source": [
        "## b.) Random Forest Classifier"
      ]
    },
    {
      "cell_type": "code",
      "metadata": {
        "colab": {
          "base_uri": "https://localhost:8080/"
        },
        "id": "NntmE9qq5sT2",
        "outputId": "33821d72-09a2-4030-a742-c99132019da5"
      },
      "source": [
        "estimator=RandomForestClassifier(random_state=0, warm_start=True)\n",
        "tuned_parameters={'max_depth':[10,20],'n_estimators':[50],'min_samples_leaf':[10]}\n",
        "cv_grid=GridSearchCV(estimator,param_grid=tuned_parameters,scoring='roc_auc',verbose=5)\n",
        "cv_grid=cv_grid.fit(X_train,y_train)\n",
        "cv_grid"
      ],
      "execution_count": 8,
      "outputs": [
        {
          "output_type": "stream",
          "text": [
            "Fitting 5 folds for each of 2 candidates, totalling 10 fits\n",
            "[CV] max_depth=10, min_samples_leaf=10, n_estimators=50 ..............\n",
            "[CV]  max_depth=10, min_samples_leaf=10, n_estimators=50, score=0.977, total=   0.1s\n",
            "[CV] max_depth=10, min_samples_leaf=10, n_estimators=50 ..............\n"
          ],
          "name": "stdout"
        },
        {
          "output_type": "stream",
          "text": [
            "[Parallel(n_jobs=1)]: Using backend SequentialBackend with 1 concurrent workers.\n",
            "[Parallel(n_jobs=1)]: Done   1 out of   1 | elapsed:    0.1s remaining:    0.0s\n",
            "[Parallel(n_jobs=1)]: Done   2 out of   2 | elapsed:    0.2s remaining:    0.0s\n"
          ],
          "name": "stderr"
        },
        {
          "output_type": "stream",
          "text": [
            "[CV]  max_depth=10, min_samples_leaf=10, n_estimators=50, score=0.988, total=   0.1s\n",
            "[CV] max_depth=10, min_samples_leaf=10, n_estimators=50 ..............\n",
            "[CV]  max_depth=10, min_samples_leaf=10, n_estimators=50, score=0.995, total=   0.1s\n",
            "[CV] max_depth=10, min_samples_leaf=10, n_estimators=50 ..............\n",
            "[CV]  max_depth=10, min_samples_leaf=10, n_estimators=50, score=0.991, total=   0.1s\n",
            "[CV] max_depth=10, min_samples_leaf=10, n_estimators=50 ..............\n"
          ],
          "name": "stdout"
        },
        {
          "output_type": "stream",
          "text": [
            "[Parallel(n_jobs=1)]: Done   3 out of   3 | elapsed:    0.3s remaining:    0.0s\n",
            "[Parallel(n_jobs=1)]: Done   4 out of   4 | elapsed:    0.4s remaining:    0.0s\n"
          ],
          "name": "stderr"
        },
        {
          "output_type": "stream",
          "text": [
            "[CV]  max_depth=10, min_samples_leaf=10, n_estimators=50, score=0.992, total=   0.1s\n",
            "[CV] max_depth=20, min_samples_leaf=10, n_estimators=50 ..............\n",
            "[CV]  max_depth=20, min_samples_leaf=10, n_estimators=50, score=0.977, total=   0.1s\n",
            "[CV] max_depth=20, min_samples_leaf=10, n_estimators=50 ..............\n",
            "[CV]  max_depth=20, min_samples_leaf=10, n_estimators=50, score=0.988, total=   0.1s\n",
            "[CV] max_depth=20, min_samples_leaf=10, n_estimators=50 ..............\n",
            "[CV]  max_depth=20, min_samples_leaf=10, n_estimators=50, score=0.995, total=   0.1s\n",
            "[CV] max_depth=20, min_samples_leaf=10, n_estimators=50 ..............\n",
            "[CV]  max_depth=20, min_samples_leaf=10, n_estimators=50, score=0.991, total=   0.1s\n",
            "[CV] max_depth=20, min_samples_leaf=10, n_estimators=50 ..............\n",
            "[CV]  max_depth=20, min_samples_leaf=10, n_estimators=50, score=0.992, total=   0.1s\n"
          ],
          "name": "stdout"
        },
        {
          "output_type": "stream",
          "text": [
            "[Parallel(n_jobs=1)]: Done  10 out of  10 | elapsed:    0.9s finished\n"
          ],
          "name": "stderr"
        },
        {
          "output_type": "execute_result",
          "data": {
            "text/plain": [
              "GridSearchCV(cv=None, error_score=nan,\n",
              "             estimator=RandomForestClassifier(bootstrap=True, ccp_alpha=0.0,\n",
              "                                              class_weight=None,\n",
              "                                              criterion='gini', max_depth=None,\n",
              "                                              max_features='auto',\n",
              "                                              max_leaf_nodes=None,\n",
              "                                              max_samples=None,\n",
              "                                              min_impurity_decrease=0.0,\n",
              "                                              min_impurity_split=None,\n",
              "                                              min_samples_leaf=1,\n",
              "                                              min_samples_split=2,\n",
              "                                              min_weight_fraction_leaf=0.0,\n",
              "                                              n_estimators=100, n_jobs=None,\n",
              "                                              oob_score=False, random_state=0,\n",
              "                                              verbose=0, warm_start=True),\n",
              "             iid='deprecated', n_jobs=None,\n",
              "             param_grid={'max_depth': [10, 20], 'min_samples_leaf': [10],\n",
              "                         'n_estimators': [50]},\n",
              "             pre_dispatch='2*n_jobs', refit=True, return_train_score=False,\n",
              "             scoring='roc_auc', verbose=5)"
            ]
          },
          "metadata": {
            "tags": []
          },
          "execution_count": 8
        }
      ]
    },
    {
      "cell_type": "code",
      "metadata": {
        "colab": {
          "base_uri": "https://localhost:8080/"
        },
        "id": "ETqLBbrgLEDt",
        "outputId": "4b7b8a60-0ea3-44f1-e51f-6f3de0744bf2"
      },
      "source": [
        "cv_grid.cv_results_"
      ],
      "execution_count": 9,
      "outputs": [
        {
          "output_type": "execute_result",
          "data": {
            "text/plain": [
              "{'mean_fit_time': array([0.08671951, 0.08430572]),\n",
              " 'mean_score_time': array([0.00726128, 0.00619059]),\n",
              " 'mean_test_score': array([0.98859649, 0.98859649]),\n",
              " 'param_max_depth': masked_array(data=[10, 20],\n",
              "              mask=[False, False],\n",
              "        fill_value='?',\n",
              "             dtype=object),\n",
              " 'param_min_samples_leaf': masked_array(data=[10, 10],\n",
              "              mask=[False, False],\n",
              "        fill_value='?',\n",
              "             dtype=object),\n",
              " 'param_n_estimators': masked_array(data=[50, 50],\n",
              "              mask=[False, False],\n",
              "        fill_value='?',\n",
              "             dtype=object),\n",
              " 'params': [{'max_depth': 10, 'min_samples_leaf': 10, 'n_estimators': 50},\n",
              "  {'max_depth': 20, 'min_samples_leaf': 10, 'n_estimators': 50}],\n",
              " 'rank_test_score': array([1, 1], dtype=int32),\n",
              " 'split0_test_score': array([0.97678019, 0.97678019]),\n",
              " 'split1_test_score': array([0.98813209, 0.98813209]),\n",
              " 'split2_test_score': array([0.99484004, 0.99484004]),\n",
              " 'split3_test_score': array([0.99122807, 0.99122807]),\n",
              " 'split4_test_score': array([0.99200206, 0.99200206]),\n",
              " 'std_fit_time': array([0.00361032, 0.0030391 ]),\n",
              " 'std_score_time': array([2.01176185e-03, 3.57505141e-05]),\n",
              " 'std_test_score': array([0.00628245, 0.00628245])}"
            ]
          },
          "metadata": {
            "tags": []
          },
          "execution_count": 9
        }
      ]
    },
    {
      "cell_type": "code",
      "metadata": {
        "colab": {
          "base_uri": "https://localhost:8080/"
        },
        "id": "ebojs0zsLkcY",
        "outputId": "2303a231-e7ab-47e7-c1c6-5934088259c3"
      },
      "source": [
        "#Predictions using the accuracies\n",
        "y_train_pred_rf=cv_grid.predict(X_train)\n",
        "y_test_pred_rf=cv_grid.predict(X_test)\n",
        "\n",
        "print('Accuracy of the Random Forest model on the training data:',accuracy_score(y_train,y_train_pred_rf))\n",
        "print('Accuracy of the Random Forest model on the testing data:',accuracy_score(y_test,y_test_pred_rf))\n",
        "\n",
        "print('Precision of the Random Forest model on the training data:',precision_score(y_train,y_train_pred_rf))\n",
        "print('Precision of the Random Forest model on the testing data:',precision_score(y_test,y_test_pred_rf))\n",
        "\n",
        "print('The confusion matrix for the training data:')\n",
        "confusion_matrix(y_train,y_train_pred_rf)\n",
        "print('The confusion matrix for the testing data:')\n",
        "confusion_matrix(y_test,y_test_pred_rf)"
      ],
      "execution_count": 10,
      "outputs": [
        {
          "output_type": "stream",
          "text": [
            "Accuracy of the Random Forest model on the training data: 0.9736263736263736\n",
            "Accuracy of the Random Forest model on the testing data: 0.9473684210526315\n",
            "Precision of the Random Forest model on the training data: 0.9789473684210527\n",
            "Precision of the Random Forest model on the testing data: 0.9342105263157895\n",
            "The confusion matrix for the training data:\n",
            "The confusion matrix for the testing data:\n"
          ],
          "name": "stdout"
        },
        {
          "output_type": "execute_result",
          "data": {
            "text/plain": [
              "array([[37,  5],\n",
              "       [ 1, 71]])"
            ]
          },
          "metadata": {
            "tags": []
          },
          "execution_count": 10
        }
      ]
    },
    {
      "cell_type": "markdown",
      "metadata": {
        "id": "Tu2epteeNsCe"
      },
      "source": [
        "## c.) Gradient Boosting Method"
      ]
    },
    {
      "cell_type": "code",
      "metadata": {
        "id": "JhV0stO7NyTG",
        "colab": {
          "base_uri": "https://localhost:8080/"
        },
        "outputId": "dd1f73e2-2759-4e8a-a4d6-dadcdac6eac2"
      },
      "source": [
        "gb=GradientBoostingClassifier(learning_rate=0.1)\n",
        "gb.get_params()"
      ],
      "execution_count": 11,
      "outputs": [
        {
          "output_type": "execute_result",
          "data": {
            "text/plain": [
              "{'ccp_alpha': 0.0,\n",
              " 'criterion': 'friedman_mse',\n",
              " 'init': None,\n",
              " 'learning_rate': 0.1,\n",
              " 'loss': 'deviance',\n",
              " 'max_depth': 3,\n",
              " 'max_features': None,\n",
              " 'max_leaf_nodes': None,\n",
              " 'min_impurity_decrease': 0.0,\n",
              " 'min_impurity_split': None,\n",
              " 'min_samples_leaf': 1,\n",
              " 'min_samples_split': 2,\n",
              " 'min_weight_fraction_leaf': 0.0,\n",
              " 'n_estimators': 100,\n",
              " 'n_iter_no_change': None,\n",
              " 'presort': 'deprecated',\n",
              " 'random_state': None,\n",
              " 'subsample': 1.0,\n",
              " 'tol': 0.0001,\n",
              " 'validation_fraction': 0.1,\n",
              " 'verbose': 0,\n",
              " 'warm_start': False}"
            ]
          },
          "metadata": {
            "tags": []
          },
          "execution_count": 11
        }
      ]
    },
    {
      "cell_type": "code",
      "metadata": {
        "id": "jhXUAdgawpgK"
      },
      "source": [
        "gbModel=gb.fit(X_train,y_train)"
      ],
      "execution_count": 12,
      "outputs": []
    },
    {
      "cell_type": "code",
      "metadata": {
        "colab": {
          "base_uri": "https://localhost:8080/"
        },
        "id": "GvfCUMmlwyGx",
        "outputId": "738ba136-5c87-4fff-b571-9149665cc311"
      },
      "source": [
        "y_train_pred_gb=gbModel.predict(X_train)\n",
        "y_test_pred_gb=gbModel.predict(X_test)\n",
        "\n",
        "print('The Classification report of the Gradient Boosting model is as follows:')\n",
        "print(classification_report(y_test,y_test_pred_gb))"
      ],
      "execution_count": 13,
      "outputs": [
        {
          "output_type": "stream",
          "text": [
            "The Classification report of the Gradient Boosting model is as follows:\n",
            "              precision    recall  f1-score   support\n",
            "\n",
            "           0       1.00      0.90      0.95        42\n",
            "           1       0.95      1.00      0.97        72\n",
            "\n",
            "    accuracy                           0.96       114\n",
            "   macro avg       0.97      0.95      0.96       114\n",
            "weighted avg       0.97      0.96      0.96       114\n",
            "\n"
          ],
          "name": "stdout"
        }
      ]
    },
    {
      "cell_type": "code",
      "metadata": {
        "colab": {
          "base_uri": "https://localhost:8080/"
        },
        "id": "08wm339I2Y1U",
        "outputId": "98a5d325-eb5f-4a19-908f-1921a5ba149e"
      },
      "source": [
        "print('Confusion Matrix:')\n",
        "print(confusion_matrix(y_test,y_test_pred_gb))"
      ],
      "execution_count": 14,
      "outputs": [
        {
          "output_type": "stream",
          "text": [
            "Confusion Matrix:\n",
            "[[38  4]\n",
            " [ 0 72]]\n"
          ],
          "name": "stdout"
        }
      ]
    },
    {
      "cell_type": "markdown",
      "metadata": {
        "id": "q6-bD1Ta3FmB"
      },
      "source": [
        "## d.) KNN Classification "
      ]
    },
    {
      "cell_type": "code",
      "metadata": {
        "colab": {
          "base_uri": "https://localhost:8080/"
        },
        "id": "xbHZS5OB3FHh",
        "outputId": "f84a7abc-a9ed-480e-d3e9-85dcd6cb9e55"
      },
      "source": [
        "#Building a KNN classifier object\n",
        "knn=KNeighborsClassifier()\n",
        "\n",
        "#Fitting a prediction model based on KNN\n",
        "knnModel=knn.fit(X_train,y_train)\n",
        "\n",
        "#Predicting values using the \n",
        "y_train_pred_knn=knnModel.predict(X_train)\n",
        "y_test_pred_knn=knnModel.predict(X_test)\n",
        "\n",
        "print('Classification Report for the KNN Model:')\n",
        "print(classification_report(y_test,y_test_pred_knn))"
      ],
      "execution_count": 15,
      "outputs": [
        {
          "output_type": "stream",
          "text": [
            "Classification Report for the KNN Model:\n",
            "              precision    recall  f1-score   support\n",
            "\n",
            "           0       0.95      0.88      0.91        42\n",
            "           1       0.93      0.97      0.95        72\n",
            "\n",
            "    accuracy                           0.94       114\n",
            "   macro avg       0.94      0.93      0.93       114\n",
            "weighted avg       0.94      0.94      0.94       114\n",
            "\n"
          ],
          "name": "stdout"
        }
      ]
    },
    {
      "cell_type": "code",
      "metadata": {
        "colab": {
          "base_uri": "https://localhost:8080/"
        },
        "id": "GJr7j2ch8LqR",
        "outputId": "5f59452d-733c-4a61-cd51-696ca775a831"
      },
      "source": [
        "print('Confusion Matrix for KNN Model:')\n",
        "print(confusion_matrix(y_test,y_test_pred_knn))"
      ],
      "execution_count": 16,
      "outputs": [
        {
          "output_type": "stream",
          "text": [
            "Confusion Matrix for KNN Model:\n",
            "[[37  5]\n",
            " [ 2 70]]\n"
          ],
          "name": "stdout"
        }
      ]
    },
    {
      "cell_type": "markdown",
      "metadata": {
        "id": "-vKRv-Uy8aoT"
      },
      "source": [
        "# **4.) Tuning the hyper-parameters of the Decision Tree model**"
      ]
    },
    {
      "cell_type": "code",
      "metadata": {
        "id": "OQ1appdQ8uXj"
      },
      "source": [
        "tuning_parameters={'criterion': ['gini', 'entropy'], 'max_depth': [10, 20, 50, 100], 'min_samples_leaf': [10, 20, 50]}\n",
        "estimatorDT=DecisionTreeClassifier()"
      ],
      "execution_count": 17,
      "outputs": []
    },
    {
      "cell_type": "code",
      "metadata": {
        "id": "7A62PwlT_W0Y",
        "colab": {
          "base_uri": "https://localhost:8080/"
        },
        "outputId": "877b54c0-57a9-47a0-f044-4b0418b89b34"
      },
      "source": [
        "cv_gridDT=GridSearchCV(estimator=estimatorDT,param_grid=tuning_parameters,scoring='roc_auc',verbose=5)\n",
        "dtModelWPT=cv_grid.fit(X_train,y_train)\n",
        "dtModelWPT.cv_results_"
      ],
      "execution_count": 18,
      "outputs": [
        {
          "output_type": "stream",
          "text": [
            "Fitting 5 folds for each of 2 candidates, totalling 10 fits\n",
            "[CV] max_depth=10, min_samples_leaf=10, n_estimators=50 ..............\n",
            "[CV]  max_depth=10, min_samples_leaf=10, n_estimators=50, score=0.977, total=   0.1s\n",
            "[CV] max_depth=10, min_samples_leaf=10, n_estimators=50 ..............\n"
          ],
          "name": "stdout"
        },
        {
          "output_type": "stream",
          "text": [
            "[Parallel(n_jobs=1)]: Using backend SequentialBackend with 1 concurrent workers.\n",
            "[Parallel(n_jobs=1)]: Done   1 out of   1 | elapsed:    0.1s remaining:    0.0s\n"
          ],
          "name": "stderr"
        },
        {
          "output_type": "stream",
          "text": [
            "[CV]  max_depth=10, min_samples_leaf=10, n_estimators=50, score=0.988, total=   0.1s\n",
            "[CV] max_depth=10, min_samples_leaf=10, n_estimators=50 ..............\n",
            "[CV]  max_depth=10, min_samples_leaf=10, n_estimators=50, score=0.995, total=   0.1s\n",
            "[CV] max_depth=10, min_samples_leaf=10, n_estimators=50 ..............\n"
          ],
          "name": "stdout"
        },
        {
          "output_type": "stream",
          "text": [
            "[Parallel(n_jobs=1)]: Done   2 out of   2 | elapsed:    0.2s remaining:    0.0s\n",
            "[Parallel(n_jobs=1)]: Done   3 out of   3 | elapsed:    0.3s remaining:    0.0s\n"
          ],
          "name": "stderr"
        },
        {
          "output_type": "stream",
          "text": [
            "[CV]  max_depth=10, min_samples_leaf=10, n_estimators=50, score=0.991, total=   0.1s\n",
            "[CV] max_depth=10, min_samples_leaf=10, n_estimators=50 ..............\n",
            "[CV]  max_depth=10, min_samples_leaf=10, n_estimators=50, score=0.992, total=   0.1s\n",
            "[CV] max_depth=20, min_samples_leaf=10, n_estimators=50 ..............\n",
            "[CV]  max_depth=20, min_samples_leaf=10, n_estimators=50, score=0.977, total=   0.1s\n",
            "[CV] max_depth=20, min_samples_leaf=10, n_estimators=50 ..............\n"
          ],
          "name": "stdout"
        },
        {
          "output_type": "stream",
          "text": [
            "[Parallel(n_jobs=1)]: Done   4 out of   4 | elapsed:    0.4s remaining:    0.0s\n"
          ],
          "name": "stderr"
        },
        {
          "output_type": "stream",
          "text": [
            "[CV]  max_depth=20, min_samples_leaf=10, n_estimators=50, score=0.988, total=   0.1s\n",
            "[CV] max_depth=20, min_samples_leaf=10, n_estimators=50 ..............\n",
            "[CV]  max_depth=20, min_samples_leaf=10, n_estimators=50, score=0.995, total=   0.1s\n",
            "[CV] max_depth=20, min_samples_leaf=10, n_estimators=50 ..............\n",
            "[CV]  max_depth=20, min_samples_leaf=10, n_estimators=50, score=0.991, total=   0.1s\n",
            "[CV] max_depth=20, min_samples_leaf=10, n_estimators=50 ..............\n",
            "[CV]  max_depth=20, min_samples_leaf=10, n_estimators=50, score=0.992, total=   0.1s\n"
          ],
          "name": "stdout"
        },
        {
          "output_type": "stream",
          "text": [
            "[Parallel(n_jobs=1)]: Done  10 out of  10 | elapsed:    1.0s finished\n"
          ],
          "name": "stderr"
        },
        {
          "output_type": "execute_result",
          "data": {
            "text/plain": [
              "{'mean_fit_time': array([0.09522319, 0.08938818]),\n",
              " 'mean_score_time': array([0.00919666, 0.00887032]),\n",
              " 'mean_test_score': array([0.98859649, 0.98859649]),\n",
              " 'param_max_depth': masked_array(data=[10, 20],\n",
              "              mask=[False, False],\n",
              "        fill_value='?',\n",
              "             dtype=object),\n",
              " 'param_min_samples_leaf': masked_array(data=[10, 10],\n",
              "              mask=[False, False],\n",
              "        fill_value='?',\n",
              "             dtype=object),\n",
              " 'param_n_estimators': masked_array(data=[50, 50],\n",
              "              mask=[False, False],\n",
              "        fill_value='?',\n",
              "             dtype=object),\n",
              " 'params': [{'max_depth': 10, 'min_samples_leaf': 10, 'n_estimators': 50},\n",
              "  {'max_depth': 20, 'min_samples_leaf': 10, 'n_estimators': 50}],\n",
              " 'rank_test_score': array([1, 1], dtype=int32),\n",
              " 'split0_test_score': array([0.97678019, 0.97678019]),\n",
              " 'split1_test_score': array([0.98813209, 0.98813209]),\n",
              " 'split2_test_score': array([0.99484004, 0.99484004]),\n",
              " 'split3_test_score': array([0.99122807, 0.99122807]),\n",
              " 'split4_test_score': array([0.99200206, 0.99200206]),\n",
              " 'std_fit_time': array([0.01045517, 0.00785001]),\n",
              " 'std_score_time': array([0.00190869, 0.00270016]),\n",
              " 'std_test_score': array([0.00628245, 0.00628245])}"
            ]
          },
          "metadata": {
            "tags": []
          },
          "execution_count": 18
        }
      ]
    },
    {
      "cell_type": "code",
      "metadata": {
        "colab": {
          "base_uri": "https://localhost:8080/"
        },
        "id": "rDfXvlhaGFe2",
        "outputId": "4d224596-30a2-40da-d318-31db52f0793a"
      },
      "source": [
        "y_test_pred_dtpt=dtModelWPT.predict(X_test)\n",
        "print('Classification Report for the decision tree model with tuned parameters:')\n",
        "print(classification_report(y_test,y_test_pred_dtpt))"
      ],
      "execution_count": 19,
      "outputs": [
        {
          "output_type": "stream",
          "text": [
            "Classification Report for the decision tree model with tuned parameters:\n",
            "              precision    recall  f1-score   support\n",
            "\n",
            "           0       0.97      0.88      0.93        42\n",
            "           1       0.93      0.99      0.96        72\n",
            "\n",
            "    accuracy                           0.95       114\n",
            "   macro avg       0.95      0.93      0.94       114\n",
            "weighted avg       0.95      0.95      0.95       114\n",
            "\n"
          ],
          "name": "stdout"
        }
      ]
    },
    {
      "cell_type": "code",
      "metadata": {
        "colab": {
          "base_uri": "https://localhost:8080/"
        },
        "id": "evv9OUaKGpFz",
        "outputId": "3d8ec4fa-c123-4ae6-a6f2-8a7786b56065"
      },
      "source": [
        "print('Confusion Matrix for the Decision Tree Model with Parameter Tuning:')\n",
        "print(confusion_matrix(y_test,y_test_pred_dtpt))"
      ],
      "execution_count": 20,
      "outputs": [
        {
          "output_type": "stream",
          "text": [
            "Confusion Matrix for the Decision Tree Model with Parameter Tuning:\n",
            "[[37  5]\n",
            " [ 1 71]]\n"
          ],
          "name": "stdout"
        }
      ]
    },
    {
      "cell_type": "markdown",
      "metadata": {
        "id": "OcwDbh0jmbs2"
      },
      "source": [
        "# **5.) Comparision of Models**"
      ]
    },
    {
      "cell_type": "markdown",
      "metadata": {
        "id": "cYyun9FHmig9"
      },
      "source": [
        "**The model with Gradient Boosting Method has the highest accuracy and a better confusion matrix than that of any other model and thus it is the best model**"
      ]
    }
  ]
}