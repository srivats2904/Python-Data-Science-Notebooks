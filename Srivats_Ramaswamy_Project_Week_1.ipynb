{
  "nbformat": 4,
  "nbformat_minor": 0,
  "metadata": {
    "colab": {
      "name": "Srivats Ramaswamy - Project Week 1.ipynb",
      "provenance": [],
      "collapsed_sections": []
    },
    "kernelspec": {
      "display_name": "Python 3",
      "language": "python",
      "name": "python3"
    },
    "language_info": {
      "codemirror_mode": {
        "name": "ipython",
        "version": 3
      },
      "file_extension": ".py",
      "mimetype": "text/x-python",
      "name": "python",
      "nbconvert_exporter": "python",
      "pygments_lexer": "ipython3",
      "version": "3.7.3"
    },
    "toc": {
      "base_numbering": 1,
      "nav_menu": {},
      "number_sections": true,
      "sideBar": true,
      "skip_h1_title": false,
      "title_cell": "Table of Contents",
      "title_sidebar": "Contents",
      "toc_cell": false,
      "toc_position": {},
      "toc_section_display": true,
      "toc_window_display": false
    },
    "varInspector": {
      "cols": {
        "lenName": 16,
        "lenType": 16,
        "lenVar": 40
      },
      "kernels_config": {
        "python": {
          "delete_cmd_postfix": "",
          "delete_cmd_prefix": "del ",
          "library": "var_list.py",
          "varRefreshCmd": "print(var_dic_list())"
        },
        "r": {
          "delete_cmd_postfix": ") ",
          "delete_cmd_prefix": "rm(",
          "library": "var_list.r",
          "varRefreshCmd": "cat(var_dic_list()) "
        }
      },
      "types_to_exclude": [
        "module",
        "function",
        "builtin_function_or_method",
        "instance",
        "_Feature"
      ],
      "window_display": false
    }
  },
  "cells": [
    {
      "cell_type": "markdown",
      "metadata": {
        "id": "WiVXvuYj198C"
      },
      "source": [
        "# Load the necessary libraries. Import and load the dataset with a name uber_drives ."
      ]
    },
    {
      "cell_type": "code",
      "metadata": {
        "id": "XVoJvNJHfCY3"
      },
      "source": [
        "import pandas as pd\n",
        "import numpy as np\n",
        "\n",
        "uber_drives=pd.read_csv('Week1.csv')"
      ],
      "execution_count": 1,
      "outputs": []
    },
    {
      "cell_type": "markdown",
      "metadata": {
        "id": "DZktgL3E198I"
      },
      "source": [
        "## Q1. Show the last 10 records of the dataset. (2 point)"
      ]
    },
    {
      "cell_type": "code",
      "metadata": {
        "colab": {
          "base_uri": "https://localhost:8080/",
          "height": 359
        },
        "id": "U4evmaQrfCY6",
        "outputId": "f1b1c195-a0f3-485f-db90-e957135725dc"
      },
      "source": [
        "uber_drives[-10:]"
      ],
      "execution_count": 2,
      "outputs": [
        {
          "output_type": "execute_result",
          "data": {
            "text/html": [
              "<div>\n",
              "<style scoped>\n",
              "    .dataframe tbody tr th:only-of-type {\n",
              "        vertical-align: middle;\n",
              "    }\n",
              "\n",
              "    .dataframe tbody tr th {\n",
              "        vertical-align: top;\n",
              "    }\n",
              "\n",
              "    .dataframe thead th {\n",
              "        text-align: right;\n",
              "    }\n",
              "</style>\n",
              "<table border=\"1\" class=\"dataframe\">\n",
              "  <thead>\n",
              "    <tr style=\"text-align: right;\">\n",
              "      <th></th>\n",
              "      <th>START_DATE*</th>\n",
              "      <th>END_DATE*</th>\n",
              "      <th>CATEGORY*</th>\n",
              "      <th>START*</th>\n",
              "      <th>STOP*</th>\n",
              "      <th>MILES*</th>\n",
              "      <th>PURPOSE*</th>\n",
              "    </tr>\n",
              "  </thead>\n",
              "  <tbody>\n",
              "    <tr>\n",
              "      <th>1145</th>\n",
              "      <td>12/30/2016 10:15</td>\n",
              "      <td>12/30/2016 10:33</td>\n",
              "      <td>Business</td>\n",
              "      <td>Karachi</td>\n",
              "      <td>Karachi</td>\n",
              "      <td>2.8</td>\n",
              "      <td>Errand/Supplies</td>\n",
              "    </tr>\n",
              "    <tr>\n",
              "      <th>1146</th>\n",
              "      <td>12/30/2016 11:31</td>\n",
              "      <td>12/30/2016 11:56</td>\n",
              "      <td>Business</td>\n",
              "      <td>Karachi</td>\n",
              "      <td>Karachi</td>\n",
              "      <td>2.9</td>\n",
              "      <td>Errand/Supplies</td>\n",
              "    </tr>\n",
              "    <tr>\n",
              "      <th>1147</th>\n",
              "      <td>12/30/2016 15:41</td>\n",
              "      <td>12/30/2016 16:03</td>\n",
              "      <td>Business</td>\n",
              "      <td>Karachi</td>\n",
              "      <td>Karachi</td>\n",
              "      <td>4.6</td>\n",
              "      <td>Errand/Supplies</td>\n",
              "    </tr>\n",
              "    <tr>\n",
              "      <th>1148</th>\n",
              "      <td>12/30/2016 16:45</td>\n",
              "      <td>12/30/2016 17:08</td>\n",
              "      <td>Business</td>\n",
              "      <td>Karachi</td>\n",
              "      <td>Karachi</td>\n",
              "      <td>4.6</td>\n",
              "      <td>Meeting</td>\n",
              "    </tr>\n",
              "    <tr>\n",
              "      <th>1149</th>\n",
              "      <td>12/30/2016 23:06</td>\n",
              "      <td>12/30/2016 23:10</td>\n",
              "      <td>Business</td>\n",
              "      <td>Karachi</td>\n",
              "      <td>Karachi</td>\n",
              "      <td>0.8</td>\n",
              "      <td>Customer Visit</td>\n",
              "    </tr>\n",
              "    <tr>\n",
              "      <th>1150</th>\n",
              "      <td>12/31/2016 1:07</td>\n",
              "      <td>12/31/2016 1:14</td>\n",
              "      <td>Business</td>\n",
              "      <td>Karachi</td>\n",
              "      <td>Karachi</td>\n",
              "      <td>0.7</td>\n",
              "      <td>Meeting</td>\n",
              "    </tr>\n",
              "    <tr>\n",
              "      <th>1151</th>\n",
              "      <td>12/31/2016 13:24</td>\n",
              "      <td>12/31/2016 13:42</td>\n",
              "      <td>Business</td>\n",
              "      <td>Karachi</td>\n",
              "      <td>Unknown Location</td>\n",
              "      <td>3.9</td>\n",
              "      <td>Temporary Site</td>\n",
              "    </tr>\n",
              "    <tr>\n",
              "      <th>1152</th>\n",
              "      <td>12/31/2016 15:03</td>\n",
              "      <td>12/31/2016 15:38</td>\n",
              "      <td>Business</td>\n",
              "      <td>Unknown Location</td>\n",
              "      <td>Unknown Location</td>\n",
              "      <td>16.2</td>\n",
              "      <td>Meeting</td>\n",
              "    </tr>\n",
              "    <tr>\n",
              "      <th>1153</th>\n",
              "      <td>12/31/2016 21:32</td>\n",
              "      <td>12/31/2016 21:50</td>\n",
              "      <td>Business</td>\n",
              "      <td>Katunayake</td>\n",
              "      <td>Gampaha</td>\n",
              "      <td>6.4</td>\n",
              "      <td>Temporary Site</td>\n",
              "    </tr>\n",
              "    <tr>\n",
              "      <th>1154</th>\n",
              "      <td>12/31/2016 22:08</td>\n",
              "      <td>12/31/2016 23:51</td>\n",
              "      <td>Business</td>\n",
              "      <td>Gampaha</td>\n",
              "      <td>Ilukwatta</td>\n",
              "      <td>48.2</td>\n",
              "      <td>Temporary Site</td>\n",
              "    </tr>\n",
              "  </tbody>\n",
              "</table>\n",
              "</div>"
            ],
            "text/plain": [
              "           START_DATE*         END_DATE*  ... MILES*         PURPOSE*\n",
              "1145  12/30/2016 10:15  12/30/2016 10:33  ...    2.8  Errand/Supplies\n",
              "1146  12/30/2016 11:31  12/30/2016 11:56  ...    2.9  Errand/Supplies\n",
              "1147  12/30/2016 15:41  12/30/2016 16:03  ...    4.6  Errand/Supplies\n",
              "1148  12/30/2016 16:45  12/30/2016 17:08  ...    4.6          Meeting\n",
              "1149  12/30/2016 23:06  12/30/2016 23:10  ...    0.8   Customer Visit\n",
              "1150   12/31/2016 1:07   12/31/2016 1:14  ...    0.7          Meeting\n",
              "1151  12/31/2016 13:24  12/31/2016 13:42  ...    3.9   Temporary Site\n",
              "1152  12/31/2016 15:03  12/31/2016 15:38  ...   16.2          Meeting\n",
              "1153  12/31/2016 21:32  12/31/2016 21:50  ...    6.4   Temporary Site\n",
              "1154  12/31/2016 22:08  12/31/2016 23:51  ...   48.2   Temporary Site\n",
              "\n",
              "[10 rows x 7 columns]"
            ]
          },
          "metadata": {
            "tags": []
          },
          "execution_count": 2
        }
      ]
    },
    {
      "cell_type": "markdown",
      "metadata": {
        "id": "ipD0ZQ9O198O"
      },
      "source": [
        "## Q2. Show the first 10 records of the dataset. (2 points)"
      ]
    },
    {
      "cell_type": "code",
      "metadata": {
        "colab": {
          "base_uri": "https://localhost:8080/",
          "height": 359
        },
        "id": "fzvCKAwafCY9",
        "outputId": "6ea89a51-37fb-43f1-9565-49afd77a9658"
      },
      "source": [
        "uber_drives.head(10)"
      ],
      "execution_count": 3,
      "outputs": [
        {
          "output_type": "execute_result",
          "data": {
            "text/html": [
              "<div>\n",
              "<style scoped>\n",
              "    .dataframe tbody tr th:only-of-type {\n",
              "        vertical-align: middle;\n",
              "    }\n",
              "\n",
              "    .dataframe tbody tr th {\n",
              "        vertical-align: top;\n",
              "    }\n",
              "\n",
              "    .dataframe thead th {\n",
              "        text-align: right;\n",
              "    }\n",
              "</style>\n",
              "<table border=\"1\" class=\"dataframe\">\n",
              "  <thead>\n",
              "    <tr style=\"text-align: right;\">\n",
              "      <th></th>\n",
              "      <th>START_DATE*</th>\n",
              "      <th>END_DATE*</th>\n",
              "      <th>CATEGORY*</th>\n",
              "      <th>START*</th>\n",
              "      <th>STOP*</th>\n",
              "      <th>MILES*</th>\n",
              "      <th>PURPOSE*</th>\n",
              "    </tr>\n",
              "  </thead>\n",
              "  <tbody>\n",
              "    <tr>\n",
              "      <th>0</th>\n",
              "      <td>01-01-2016 21:11</td>\n",
              "      <td>01-01-2016 21:17</td>\n",
              "      <td>Business</td>\n",
              "      <td>Fort Pierce</td>\n",
              "      <td>Fort Pierce</td>\n",
              "      <td>5.1</td>\n",
              "      <td>Meal/Entertain</td>\n",
              "    </tr>\n",
              "    <tr>\n",
              "      <th>1</th>\n",
              "      <td>01-02-2016 01:25</td>\n",
              "      <td>01-02-2016 01:37</td>\n",
              "      <td>Business</td>\n",
              "      <td>Fort Pierce</td>\n",
              "      <td>Fort Pierce</td>\n",
              "      <td>5.0</td>\n",
              "      <td>NaN</td>\n",
              "    </tr>\n",
              "    <tr>\n",
              "      <th>2</th>\n",
              "      <td>01-02-2016 20:25</td>\n",
              "      <td>01-02-2016 20:38</td>\n",
              "      <td>Business</td>\n",
              "      <td>Fort Pierce</td>\n",
              "      <td>Fort Pierce</td>\n",
              "      <td>4.8</td>\n",
              "      <td>Errand/Supplies</td>\n",
              "    </tr>\n",
              "    <tr>\n",
              "      <th>3</th>\n",
              "      <td>01-05-2016 17:31</td>\n",
              "      <td>01-05-2016 17:45</td>\n",
              "      <td>Business</td>\n",
              "      <td>Fort Pierce</td>\n",
              "      <td>Fort Pierce</td>\n",
              "      <td>4.7</td>\n",
              "      <td>Meeting</td>\n",
              "    </tr>\n",
              "    <tr>\n",
              "      <th>4</th>\n",
              "      <td>01-06-2016 14:42</td>\n",
              "      <td>01-06-2016 15:49</td>\n",
              "      <td>Business</td>\n",
              "      <td>Fort Pierce</td>\n",
              "      <td>West Palm Beach</td>\n",
              "      <td>63.7</td>\n",
              "      <td>Customer Visit</td>\n",
              "    </tr>\n",
              "    <tr>\n",
              "      <th>5</th>\n",
              "      <td>01-06-2016 17:15</td>\n",
              "      <td>01-06-2016 17:19</td>\n",
              "      <td>Business</td>\n",
              "      <td>West Palm Beach</td>\n",
              "      <td>West Palm Beach</td>\n",
              "      <td>4.3</td>\n",
              "      <td>Meal/Entertain</td>\n",
              "    </tr>\n",
              "    <tr>\n",
              "      <th>6</th>\n",
              "      <td>01-06-2016 17:30</td>\n",
              "      <td>01-06-2016 17:35</td>\n",
              "      <td>Business</td>\n",
              "      <td>West Palm Beach</td>\n",
              "      <td>Palm Beach</td>\n",
              "      <td>7.1</td>\n",
              "      <td>Meeting</td>\n",
              "    </tr>\n",
              "    <tr>\n",
              "      <th>7</th>\n",
              "      <td>01-07-2016 13:27</td>\n",
              "      <td>01-07-2016 13:33</td>\n",
              "      <td>Business</td>\n",
              "      <td>Cary</td>\n",
              "      <td>Cary</td>\n",
              "      <td>0.8</td>\n",
              "      <td>Meeting</td>\n",
              "    </tr>\n",
              "    <tr>\n",
              "      <th>8</th>\n",
              "      <td>01-10-2016 08:05</td>\n",
              "      <td>01-10-2016 08:25</td>\n",
              "      <td>Business</td>\n",
              "      <td>Cary</td>\n",
              "      <td>Morrisville</td>\n",
              "      <td>8.3</td>\n",
              "      <td>Meeting</td>\n",
              "    </tr>\n",
              "    <tr>\n",
              "      <th>9</th>\n",
              "      <td>01-10-2016 12:17</td>\n",
              "      <td>01-10-2016 12:44</td>\n",
              "      <td>Business</td>\n",
              "      <td>Jamaica</td>\n",
              "      <td>New York</td>\n",
              "      <td>16.5</td>\n",
              "      <td>Customer Visit</td>\n",
              "    </tr>\n",
              "  </tbody>\n",
              "</table>\n",
              "</div>"
            ],
            "text/plain": [
              "        START_DATE*         END_DATE*  ... MILES*         PURPOSE*\n",
              "0  01-01-2016 21:11  01-01-2016 21:17  ...    5.1   Meal/Entertain\n",
              "1  01-02-2016 01:25  01-02-2016 01:37  ...    5.0              NaN\n",
              "2  01-02-2016 20:25  01-02-2016 20:38  ...    4.8  Errand/Supplies\n",
              "3  01-05-2016 17:31  01-05-2016 17:45  ...    4.7          Meeting\n",
              "4  01-06-2016 14:42  01-06-2016 15:49  ...   63.7   Customer Visit\n",
              "5  01-06-2016 17:15  01-06-2016 17:19  ...    4.3   Meal/Entertain\n",
              "6  01-06-2016 17:30  01-06-2016 17:35  ...    7.1          Meeting\n",
              "7  01-07-2016 13:27  01-07-2016 13:33  ...    0.8          Meeting\n",
              "8  01-10-2016 08:05  01-10-2016 08:25  ...    8.3          Meeting\n",
              "9  01-10-2016 12:17  01-10-2016 12:44  ...   16.5   Customer Visit\n",
              "\n",
              "[10 rows x 7 columns]"
            ]
          },
          "metadata": {
            "tags": []
          },
          "execution_count": 3
        }
      ]
    },
    {
      "cell_type": "markdown",
      "metadata": {
        "id": "R2F4GX15198S"
      },
      "source": [
        "## Q3. Show the dimension(number of rows and columns) of the dataset. (2 points)"
      ]
    },
    {
      "cell_type": "code",
      "metadata": {
        "colab": {
          "base_uri": "https://localhost:8080/"
        },
        "id": "Rm6bNKRnfCY_",
        "outputId": "35fec97c-1ca5-4cf7-f5cc-13b8fde65b87"
      },
      "source": [
        "print('The dimensions of the data frame(rows,columns):',uber_drives.shape) #shape will return the tuple containing the dimensions of the data frame."
      ],
      "execution_count": 4,
      "outputs": [
        {
          "output_type": "stream",
          "text": [
            "The dimensions of the data frame(rows,columns): (1155, 7)\n"
          ],
          "name": "stdout"
        }
      ]
    },
    {
      "cell_type": "markdown",
      "metadata": {
        "id": "H6x0S6vs198W"
      },
      "source": [
        "## Q4. Show the size (Total number of elements) of the dataset. (2 points)"
      ]
    },
    {
      "cell_type": "code",
      "metadata": {
        "colab": {
          "base_uri": "https://localhost:8080/"
        },
        "id": "tT4mhdAofCZC",
        "outputId": "349cf0aa-64d5-40f3-c269-6583b2bc3d61"
      },
      "source": [
        "print('The size of the data frame:',uber_drives.size)"
      ],
      "execution_count": 5,
      "outputs": [
        {
          "output_type": "stream",
          "text": [
            "The size of the data frame: 8085\n"
          ],
          "name": "stdout"
        }
      ]
    },
    {
      "cell_type": "markdown",
      "metadata": {
        "id": "c2ATRpjm198a"
      },
      "source": [
        "## Q5. Display the information about all the variables of the data set. What can you infer from the output?(1 +2 points)\n",
        "\n",
        "#### Hint: Information includes - Total number of columns,variable data-types, number of non-null values in a variable, and usage"
      ]
    },
    {
      "cell_type": "code",
      "metadata": {
        "colab": {
          "base_uri": "https://localhost:8080/"
        },
        "id": "UEjjeCjnfCZF",
        "outputId": "fd4c6a96-0c9a-4b03-b632-c0d841f901e0"
      },
      "source": [
        "uber_drives.info()\n",
        "print('From the output, we can infer that except for the PURPOSE* variable, all the other variables have perfect non-null values.')"
      ],
      "execution_count": 6,
      "outputs": [
        {
          "output_type": "stream",
          "text": [
            "<class 'pandas.core.frame.DataFrame'>\n",
            "RangeIndex: 1155 entries, 0 to 1154\n",
            "Data columns (total 7 columns):\n",
            " #   Column       Non-Null Count  Dtype  \n",
            "---  ------       --------------  -----  \n",
            " 0   START_DATE*  1155 non-null   object \n",
            " 1   END_DATE*    1155 non-null   object \n",
            " 2   CATEGORY*    1155 non-null   object \n",
            " 3   START*       1155 non-null   object \n",
            " 4   STOP*        1155 non-null   object \n",
            " 5   MILES*       1155 non-null   float64\n",
            " 6   PURPOSE*     653 non-null    object \n",
            "dtypes: float64(1), object(6)\n",
            "memory usage: 63.3+ KB\n",
            "From the output, we can infer that except for the PURPOSE* variable, all the other variables have perfect non-null values.\n"
          ],
          "name": "stdout"
        }
      ]
    },
    {
      "cell_type": "markdown",
      "metadata": {
        "id": "emZkbUV_198g"
      },
      "source": [
        "## Q6. Check for missing values. (2 points) \n",
        "\n",
        "####  Note: Output should contain only one boolean value"
      ]
    },
    {
      "cell_type": "code",
      "metadata": {
        "colab": {
          "base_uri": "https://localhost:8080/"
        },
        "id": "TzsFSXN8fCZH",
        "outputId": "5f941943-b9db-4316-fccf-c09b784f2c8b"
      },
      "source": [
        "uber_drives.isnull().sum()"
      ],
      "execution_count": 7,
      "outputs": [
        {
          "output_type": "execute_result",
          "data": {
            "text/plain": [
              "START_DATE*      0\n",
              "END_DATE*        0\n",
              "CATEGORY*        0\n",
              "START*           0\n",
              "STOP*            0\n",
              "MILES*           0\n",
              "PURPOSE*       502\n",
              "dtype: int64"
            ]
          },
          "metadata": {
            "tags": []
          },
          "execution_count": 7
        }
      ]
    },
    {
      "cell_type": "markdown",
      "metadata": {
        "id": "UCvC2OPe198l"
      },
      "source": [
        "## Q7. How many missing values are present in the entire dataset? (2 points)\n"
      ]
    },
    {
      "cell_type": "code",
      "metadata": {
        "colab": {
          "base_uri": "https://localhost:8080/"
        },
        "id": "pmeK7B5ffCZJ",
        "outputId": "02720cd2-2b5e-4597-f65d-228c83176712"
      },
      "source": [
        "notNullUD=uber_drives.dropna()\n",
        "print('The total number of missing values in the entire data set:',uber_drives.shape[0]-notNullUD.shape[0])"
      ],
      "execution_count": 8,
      "outputs": [
        {
          "output_type": "stream",
          "text": [
            "The total number of missing values in the entire data set: 502\n"
          ],
          "name": "stdout"
        }
      ]
    },
    {
      "cell_type": "markdown",
      "metadata": {
        "id": "617aSeL_198q"
      },
      "source": [
        "## Q8. Get the summary of the original data. (2 points).\n",
        "\n",
        "#### Hint: Summary includes- Count,Mean, Std, Min, 25%,50%,75% and max"
      ]
    },
    {
      "cell_type": "code",
      "metadata": {
        "colab": {
          "base_uri": "https://localhost:8080/",
          "height": 297
        },
        "id": "FqlQ0fvKfCZL",
        "outputId": "d89a6a8d-6842-41cb-ddcd-779c24543e55"
      },
      "source": [
        "uber_drives.describe()"
      ],
      "execution_count": 9,
      "outputs": [
        {
          "output_type": "execute_result",
          "data": {
            "text/html": [
              "<div>\n",
              "<style scoped>\n",
              "    .dataframe tbody tr th:only-of-type {\n",
              "        vertical-align: middle;\n",
              "    }\n",
              "\n",
              "    .dataframe tbody tr th {\n",
              "        vertical-align: top;\n",
              "    }\n",
              "\n",
              "    .dataframe thead th {\n",
              "        text-align: right;\n",
              "    }\n",
              "</style>\n",
              "<table border=\"1\" class=\"dataframe\">\n",
              "  <thead>\n",
              "    <tr style=\"text-align: right;\">\n",
              "      <th></th>\n",
              "      <th>MILES*</th>\n",
              "    </tr>\n",
              "  </thead>\n",
              "  <tbody>\n",
              "    <tr>\n",
              "      <th>count</th>\n",
              "      <td>1155.000000</td>\n",
              "    </tr>\n",
              "    <tr>\n",
              "      <th>mean</th>\n",
              "      <td>10.566840</td>\n",
              "    </tr>\n",
              "    <tr>\n",
              "      <th>std</th>\n",
              "      <td>21.579106</td>\n",
              "    </tr>\n",
              "    <tr>\n",
              "      <th>min</th>\n",
              "      <td>0.500000</td>\n",
              "    </tr>\n",
              "    <tr>\n",
              "      <th>25%</th>\n",
              "      <td>2.900000</td>\n",
              "    </tr>\n",
              "    <tr>\n",
              "      <th>50%</th>\n",
              "      <td>6.000000</td>\n",
              "    </tr>\n",
              "    <tr>\n",
              "      <th>75%</th>\n",
              "      <td>10.400000</td>\n",
              "    </tr>\n",
              "    <tr>\n",
              "      <th>max</th>\n",
              "      <td>310.300000</td>\n",
              "    </tr>\n",
              "  </tbody>\n",
              "</table>\n",
              "</div>"
            ],
            "text/plain": [
              "            MILES*\n",
              "count  1155.000000\n",
              "mean     10.566840\n",
              "std      21.579106\n",
              "min       0.500000\n",
              "25%       2.900000\n",
              "50%       6.000000\n",
              "75%      10.400000\n",
              "max     310.300000"
            ]
          },
          "metadata": {
            "tags": []
          },
          "execution_count": 9
        }
      ]
    },
    {
      "cell_type": "markdown",
      "metadata": {
        "id": "8PmU-86n198v"
      },
      "source": [
        "\n",
        "\n",
        "## Q9. Drop the missing values and store the data in a new dataframe (name it\"df\") (2-points)\n",
        "\n",
        "#### Note: Dataframe \"df\" will not contain any missing value"
      ]
    },
    {
      "cell_type": "code",
      "metadata": {
        "id": "X2jKpjnQfCZN"
      },
      "source": [
        "df=uber_drives.dropna()"
      ],
      "execution_count": 10,
      "outputs": []
    },
    {
      "cell_type": "markdown",
      "metadata": {
        "id": "2vIFI9G61983"
      },
      "source": [
        "## Q10. Check the information of the dataframe(df). (1 points)\n",
        "\n",
        "#### Hint: Information includes - Total number of columns,variable data-types, number of non-null values in a variable, and usage"
      ]
    },
    {
      "cell_type": "code",
      "metadata": {
        "colab": {
          "base_uri": "https://localhost:8080/"
        },
        "id": "mRcBianhfCZP",
        "outputId": "095fd051-c747-45ee-bd24-f93a339c6229"
      },
      "source": [
        "df.info()"
      ],
      "execution_count": 11,
      "outputs": [
        {
          "output_type": "stream",
          "text": [
            "<class 'pandas.core.frame.DataFrame'>\n",
            "Int64Index: 653 entries, 0 to 1154\n",
            "Data columns (total 7 columns):\n",
            " #   Column       Non-Null Count  Dtype  \n",
            "---  ------       --------------  -----  \n",
            " 0   START_DATE*  653 non-null    object \n",
            " 1   END_DATE*    653 non-null    object \n",
            " 2   CATEGORY*    653 non-null    object \n",
            " 3   START*       653 non-null    object \n",
            " 4   STOP*        653 non-null    object \n",
            " 5   MILES*       653 non-null    float64\n",
            " 6   PURPOSE*     653 non-null    object \n",
            "dtypes: float64(1), object(6)\n",
            "memory usage: 40.8+ KB\n"
          ],
          "name": "stdout"
        }
      ]
    },
    {
      "cell_type": "markdown",
      "metadata": {
        "id": "Pqm4jhgT1986"
      },
      "source": [
        "## Q11. Get the unique start locations. (2 points)\n",
        "#### Note: This question is based on the dataframe with no 'NA' values"
      ]
    },
    {
      "cell_type": "code",
      "metadata": {
        "colab": {
          "base_uri": "https://localhost:8080/"
        },
        "id": "15t0beR4fCZQ",
        "outputId": "8b22190d-5d82-49b7-d0a2-b45304bc4e2e"
      },
      "source": [
        "df['START*'].unique()"
      ],
      "execution_count": 12,
      "outputs": [
        {
          "output_type": "execute_result",
          "data": {
            "text/plain": [
              "array(['Fort Pierce', 'West Palm Beach', 'Cary', 'Jamaica', 'New York',\n",
              "       'Elmhurst', 'Midtown', 'East Harlem', 'Flatiron District',\n",
              "       'Midtown East', 'Hudson Square', 'Lower Manhattan',\n",
              "       \"Hell's Kitchen\", 'Downtown', 'Gulfton', 'Houston', 'Eagan Park',\n",
              "       'Morrisville', 'Durham', 'Farmington Woods', 'Lake Wellingborough',\n",
              "       'Fayetteville Street', 'Raleigh', 'Whitebridge', 'Hazelwood',\n",
              "       'Fairmont', 'Meredith Townes', 'Apex', 'Chapel Hill', 'Northwoods',\n",
              "       'Edgehill Farms', 'Eastgate', 'East Elmhurst', 'Long Island City',\n",
              "       'Katunayaka', 'Colombo', 'Nugegoda', 'Unknown Location',\n",
              "       'Islamabad', 'R?walpindi', 'Noorpur Shahan', 'Preston',\n",
              "       'Heritage Pines', 'Tanglewood', 'Waverly Place', 'Wayne Ridge',\n",
              "       'Westpark Place', 'East Austin', 'The Drag', 'South Congress',\n",
              "       'Georgian Acres', 'North Austin', 'West University', 'Austin',\n",
              "       'Katy', 'Sharpstown', 'Sugar Land', 'Galveston', 'Port Bolivar',\n",
              "       'Washington Avenue', 'Briar Meadow', 'Latta', 'Jacksonville',\n",
              "       'Lake Reams', 'Orlando', 'Kissimmee', 'Daytona Beach', 'Ridgeland',\n",
              "       'Florence', 'Meredith', 'Holly Springs', 'Chessington', 'Burtrose',\n",
              "       'Parkway', 'Mcvan', 'Capitol One', 'University District',\n",
              "       'Seattle', 'Redmond', 'Bellevue', 'San Francisco', 'Palo Alto',\n",
              "       'Sunnyvale', 'Newark', 'Menlo Park', 'Old City', 'Savon Height',\n",
              "       'Kilarney Woods', 'Townes at Everett Crossing', 'Huntington Woods',\n",
              "       'Weston', 'Seaport', 'Medical Centre', 'Rose Hill', 'Soho',\n",
              "       'Tribeca', 'Financial District', 'Oakland', 'Emeryville',\n",
              "       'Berkeley', 'Kenner', 'CBD', 'Lower Garden District', 'Storyville',\n",
              "       'New Orleans', 'Chalmette', 'Arabi', 'Pontchartrain Shores',\n",
              "       'Metairie', 'Summerwinds', 'Parkwood', 'Banner Elk', 'Boone',\n",
              "       'Stonewater', 'Lexington Park at Amberly', 'Winston Salem',\n",
              "       'Asheville', 'Topton', 'Renaissance', 'Santa Clara', 'Ingleside',\n",
              "       'West Berkeley', 'Mountain View', 'El Cerrito', 'Krendle Woods',\n",
              "       'Fuquay-Varina', 'Rawalpindi', 'Lahore', 'Karachi', 'Katunayake',\n",
              "       'Gampaha'], dtype=object)"
            ]
          },
          "metadata": {
            "tags": []
          },
          "execution_count": 12
        }
      ]
    },
    {
      "cell_type": "markdown",
      "metadata": {
        "id": "s3s-pY1R198_"
      },
      "source": [
        "## Q12. What is the total number of unique start destinations? (2 points)\n",
        "#### Note: Use the original dataframe without dropping 'NA' values"
      ]
    },
    {
      "cell_type": "code",
      "metadata": {
        "colab": {
          "base_uri": "https://localhost:8080/"
        },
        "id": "qqbXlAJPfCZS",
        "outputId": "d866acbb-d77d-437d-b625-38afdcbf8342"
      },
      "source": [
        "uber_drives['START*'].nunique()"
      ],
      "execution_count": 13,
      "outputs": [
        {
          "output_type": "execute_result",
          "data": {
            "text/plain": [
              "176"
            ]
          },
          "metadata": {
            "tags": []
          },
          "execution_count": 13
        }
      ]
    },
    {
      "cell_type": "markdown",
      "metadata": {
        "id": "LuKFv1_P199D"
      },
      "source": [
        "## Q13. What is the total number of unique stop locations. (2 points)\n",
        "#### Note: Use the original dataframe without dropping 'NA' values."
      ]
    },
    {
      "cell_type": "code",
      "metadata": {
        "colab": {
          "base_uri": "https://localhost:8080/"
        },
        "id": "cQRbXaaPfCZT",
        "outputId": "c3b045b2-0504-4703-ec1b-54bae5e80941"
      },
      "source": [
        "uber_drives['STOP*'].nunique()"
      ],
      "execution_count": 14,
      "outputs": [
        {
          "output_type": "execute_result",
          "data": {
            "text/plain": [
              "187"
            ]
          },
          "metadata": {
            "tags": []
          },
          "execution_count": 14
        }
      ]
    },
    {
      "cell_type": "markdown",
      "metadata": {
        "id": "VmkTnPlt199H"
      },
      "source": [
        "## Q14. Display all Uber trips that has the starting point as San Francisco. (2 points)\n",
        "#### Note: Use the original dataframe without dropping the 'NA' values.\n"
      ]
    },
    {
      "cell_type": "code",
      "metadata": {
        "colab": {
          "base_uri": "https://localhost:8080/",
          "height": 297
        },
        "id": "aV0aF38QfCZV",
        "outputId": "819df5f0-8a9c-4f46-f8c6-f86f81681646"
      },
      "source": [
        "uber_drives[uber_drives['START*']=='San Francisco']"
      ],
      "execution_count": 15,
      "outputs": [
        {
          "output_type": "execute_result",
          "data": {
            "text/html": [
              "<div>\n",
              "<style scoped>\n",
              "    .dataframe tbody tr th:only-of-type {\n",
              "        vertical-align: middle;\n",
              "    }\n",
              "\n",
              "    .dataframe tbody tr th {\n",
              "        vertical-align: top;\n",
              "    }\n",
              "\n",
              "    .dataframe thead th {\n",
              "        text-align: right;\n",
              "    }\n",
              "</style>\n",
              "<table border=\"1\" class=\"dataframe\">\n",
              "  <thead>\n",
              "    <tr style=\"text-align: right;\">\n",
              "      <th></th>\n",
              "      <th>START_DATE*</th>\n",
              "      <th>END_DATE*</th>\n",
              "      <th>CATEGORY*</th>\n",
              "      <th>START*</th>\n",
              "      <th>STOP*</th>\n",
              "      <th>MILES*</th>\n",
              "      <th>PURPOSE*</th>\n",
              "    </tr>\n",
              "  </thead>\n",
              "  <tbody>\n",
              "    <tr>\n",
              "      <th>362</th>\n",
              "      <td>05-09-2016 14:39</td>\n",
              "      <td>05-09-2016 15:06</td>\n",
              "      <td>Business</td>\n",
              "      <td>San Francisco</td>\n",
              "      <td>Palo Alto</td>\n",
              "      <td>20.5</td>\n",
              "      <td>Between Offices</td>\n",
              "    </tr>\n",
              "    <tr>\n",
              "      <th>440</th>\n",
              "      <td>6/14/2016 16:09</td>\n",
              "      <td>6/14/2016 16:39</td>\n",
              "      <td>Business</td>\n",
              "      <td>San Francisco</td>\n",
              "      <td>Emeryville</td>\n",
              "      <td>11.6</td>\n",
              "      <td>Meeting</td>\n",
              "    </tr>\n",
              "    <tr>\n",
              "      <th>836</th>\n",
              "      <td>10/19/2016 14:02</td>\n",
              "      <td>10/19/2016 14:31</td>\n",
              "      <td>Business</td>\n",
              "      <td>San Francisco</td>\n",
              "      <td>Berkeley</td>\n",
              "      <td>10.8</td>\n",
              "      <td>NaN</td>\n",
              "    </tr>\n",
              "    <tr>\n",
              "      <th>917</th>\n",
              "      <td>11-07-2016 19:17</td>\n",
              "      <td>11-07-2016 19:57</td>\n",
              "      <td>Business</td>\n",
              "      <td>San Francisco</td>\n",
              "      <td>Berkeley</td>\n",
              "      <td>13.2</td>\n",
              "      <td>Between Offices</td>\n",
              "    </tr>\n",
              "    <tr>\n",
              "      <th>919</th>\n",
              "      <td>11-08-2016 12:16</td>\n",
              "      <td>11-08-2016 12:49</td>\n",
              "      <td>Business</td>\n",
              "      <td>San Francisco</td>\n",
              "      <td>Berkeley</td>\n",
              "      <td>11.3</td>\n",
              "      <td>Meeting</td>\n",
              "    </tr>\n",
              "    <tr>\n",
              "      <th>927</th>\n",
              "      <td>11-09-2016 18:40</td>\n",
              "      <td>11-09-2016 19:17</td>\n",
              "      <td>Business</td>\n",
              "      <td>San Francisco</td>\n",
              "      <td>Oakland</td>\n",
              "      <td>12.7</td>\n",
              "      <td>Customer Visit</td>\n",
              "    </tr>\n",
              "    <tr>\n",
              "      <th>933</th>\n",
              "      <td>11-10-2016 15:17</td>\n",
              "      <td>11-10-2016 15:22</td>\n",
              "      <td>Business</td>\n",
              "      <td>San Francisco</td>\n",
              "      <td>Oakland</td>\n",
              "      <td>9.9</td>\n",
              "      <td>Temporary Site</td>\n",
              "    </tr>\n",
              "    <tr>\n",
              "      <th>966</th>\n",
              "      <td>11/15/2016 20:44</td>\n",
              "      <td>11/15/2016 21:00</td>\n",
              "      <td>Business</td>\n",
              "      <td>San Francisco</td>\n",
              "      <td>Berkeley</td>\n",
              "      <td>11.8</td>\n",
              "      <td>Temporary Site</td>\n",
              "    </tr>\n",
              "  </tbody>\n",
              "</table>\n",
              "</div>"
            ],
            "text/plain": [
              "          START_DATE*         END_DATE*  ... MILES*         PURPOSE*\n",
              "362  05-09-2016 14:39  05-09-2016 15:06  ...   20.5  Between Offices\n",
              "440   6/14/2016 16:09   6/14/2016 16:39  ...   11.6          Meeting\n",
              "836  10/19/2016 14:02  10/19/2016 14:31  ...   10.8              NaN\n",
              "917  11-07-2016 19:17  11-07-2016 19:57  ...   13.2  Between Offices\n",
              "919  11-08-2016 12:16  11-08-2016 12:49  ...   11.3          Meeting\n",
              "927  11-09-2016 18:40  11-09-2016 19:17  ...   12.7   Customer Visit\n",
              "933  11-10-2016 15:17  11-10-2016 15:22  ...    9.9   Temporary Site\n",
              "966  11/15/2016 20:44  11/15/2016 21:00  ...   11.8   Temporary Site\n",
              "\n",
              "[8 rows x 7 columns]"
            ]
          },
          "metadata": {
            "tags": []
          },
          "execution_count": 15
        }
      ]
    },
    {
      "cell_type": "markdown",
      "metadata": {
        "id": "ZMsuzJcG199O"
      },
      "source": [
        "## Q15. What is the most popular starting point for the Uber drivers? (2 points)\n",
        "#### Note: Use the original dataframe without dropping the 'NA' values.\n",
        "\n",
        "#### Hint:Popular means the place that is visited the most"
      ]
    },
    {
      "cell_type": "code",
      "metadata": {
        "colab": {
          "base_uri": "https://localhost:8080/"
        },
        "id": "7qfUVHIcfCZW",
        "outputId": "707f194a-eda5-4d78-b53e-e4144d118c9f"
      },
      "source": [
        "uber_drives.groupby('START*')['START_DATE*'].nunique().sort_values(ascending=False).head(1)"
      ],
      "execution_count": 16,
      "outputs": [
        {
          "output_type": "execute_result",
          "data": {
            "text/plain": [
              "START*\n",
              "Cary    201\n",
              "Name: START_DATE*, dtype: int64"
            ]
          },
          "metadata": {
            "tags": []
          },
          "execution_count": 16
        }
      ]
    },
    {
      "cell_type": "markdown",
      "metadata": {
        "id": "S13-HiPG199T"
      },
      "source": [
        "## Q16. What is the most popular dropping point for the Uber drivers? (2 points)\n",
        "#### Note: Use the original dataframe without dropping the 'NA' values.\n",
        "\n",
        "#### Hint: Popular means the place that is visited the most"
      ]
    },
    {
      "cell_type": "code",
      "metadata": {
        "colab": {
          "base_uri": "https://localhost:8080/"
        },
        "id": "XBZNxlTxfCZY",
        "outputId": "3630f041-50e9-4975-87a4-af0a986353a7"
      },
      "source": [
        "uber_drives.groupby('STOP*')['END_DATE*'].nunique().sort_values(ascending=False).head(1)"
      ],
      "execution_count": 17,
      "outputs": [
        {
          "output_type": "execute_result",
          "data": {
            "text/plain": [
              "STOP*\n",
              "Cary    202\n",
              "Name: END_DATE*, dtype: int64"
            ]
          },
          "metadata": {
            "tags": []
          },
          "execution_count": 17
        }
      ]
    },
    {
      "cell_type": "markdown",
      "metadata": {
        "id": "6Iqizk7B199W"
      },
      "source": [
        "## Q17. What is the most frequent route taken by Uber drivers. (3 points)\n",
        "#### Note: This question is based on the new dataframe with no 'na' values.\n",
        "#### Hint-Print the most frequent route taken by Uber drivers (Route= combination of START & END points present in the Data set)."
      ]
    },
    {
      "cell_type": "code",
      "metadata": {
        "id": "u11wxHJBfCZZ"
      },
      "source": [
        ""
      ],
      "execution_count": 17,
      "outputs": []
    },
    {
      "cell_type": "markdown",
      "metadata": {
        "id": "oBrYyZ-L199Z"
      },
      "source": [
        "## Q18. Display all types of purposes for the trip in an array. (2 points)\n",
        "#### Note: This question is based on the new dataframe with no 'NA' values."
      ]
    },
    {
      "cell_type": "code",
      "metadata": {
        "colab": {
          "base_uri": "https://localhost:8080/"
        },
        "id": "1x4R49OXfCZb",
        "outputId": "1a7eadb5-e5be-412b-a638-d0f54e2fba00"
      },
      "source": [
        "purpose=np.array(uber_drives['PURPOSE*'].unique())\n",
        "purpose"
      ],
      "execution_count": 18,
      "outputs": [
        {
          "output_type": "execute_result",
          "data": {
            "text/plain": [
              "array(['Meal/Entertain', nan, 'Errand/Supplies', 'Meeting',\n",
              "       'Customer Visit', 'Temporary Site', 'Between Offices',\n",
              "       'Charity ($)', 'Commute', 'Moving', 'Airport/Travel'], dtype=object)"
            ]
          },
          "metadata": {
            "tags": []
          },
          "execution_count": 18
        }
      ]
    },
    {
      "cell_type": "markdown",
      "metadata": {
        "id": "WBN9Ufxc199d"
      },
      "source": [
        "## Q19. Plot a bar graph of Purpose vs Miles(Distance). What can you infer from the plot(2 +2 points)\n",
        "#### Note: Use the original dataframe without dropping the 'NA' values.\n",
        "#### Hint:You have to plot total/sum miles per purpose"
      ]
    },
    {
      "cell_type": "code",
      "metadata": {
        "colab": {
          "base_uri": "https://localhost:8080/",
          "height": 296
        },
        "id": "j4uZyWvXfCZc",
        "outputId": "454003ec-3893-4fdd-953d-b6f6191c529a"
      },
      "source": [
        "import seaborn as sb\n",
        "import matplotlib.pyplot as plt\n",
        "\n",
        "sb.barplot(x=uber_drives['PURPOSE*'],y=uber_drives['MILES*'],hue=uber_drives['PURPOSE*'])"
      ],
      "execution_count": 19,
      "outputs": [
        {
          "output_type": "execute_result",
          "data": {
            "text/plain": [
              "<matplotlib.axes._subplots.AxesSubplot at 0x7fba3a21bc90>"
            ]
          },
          "metadata": {
            "tags": []
          },
          "execution_count": 19
        },
        {
          "output_type": "display_data",
          "data": {
            "image/png": "[encoded data removed]",
            "text/plain": [
              "<Figure size 432x288 with 1 Axes>"
            ]
          },
          "metadata": {
            "tags": [],
            "needs_background": "light"
          }
        }
      ]
    },
    {
      "cell_type": "markdown",
      "metadata": {
        "id": "b7-pD446199j"
      },
      "source": [
        "## Q20. Display a dataframe of Purpose and the total distance travelled for that particular Purpose. (3 points)\n",
        "#### Note: Use the original dataframe without dropping \"NA\" values"
      ]
    },
    {
      "cell_type": "code",
      "metadata": {
        "id": "9uFHeozbfCZe",
        "colab": {
          "base_uri": "https://localhost:8080/",
          "height": 390
        },
        "outputId": "a0c190a6-57fb-4253-9b7c-06082372762f"
      },
      "source": [
        "purpose_distance=pd.DataFrame(uber_drives.groupby('PURPOSE*')['MILES*'].sum())\n",
        "purpose_distance"
      ],
      "execution_count": 20,
      "outputs": [
        {
          "output_type": "execute_result",
          "data": {
            "text/html": [
              "<div>\n",
              "<style scoped>\n",
              "    .dataframe tbody tr th:only-of-type {\n",
              "        vertical-align: middle;\n",
              "    }\n",
              "\n",
              "    .dataframe tbody tr th {\n",
              "        vertical-align: top;\n",
              "    }\n",
              "\n",
              "    .dataframe thead th {\n",
              "        text-align: right;\n",
              "    }\n",
              "</style>\n",
              "<table border=\"1\" class=\"dataframe\">\n",
              "  <thead>\n",
              "    <tr style=\"text-align: right;\">\n",
              "      <th></th>\n",
              "      <th>MILES*</th>\n",
              "    </tr>\n",
              "    <tr>\n",
              "      <th>PURPOSE*</th>\n",
              "      <th></th>\n",
              "    </tr>\n",
              "  </thead>\n",
              "  <tbody>\n",
              "    <tr>\n",
              "      <th>Airport/Travel</th>\n",
              "      <td>16.5</td>\n",
              "    </tr>\n",
              "    <tr>\n",
              "      <th>Between Offices</th>\n",
              "      <td>197.0</td>\n",
              "    </tr>\n",
              "    <tr>\n",
              "      <th>Charity ($)</th>\n",
              "      <td>15.1</td>\n",
              "    </tr>\n",
              "    <tr>\n",
              "      <th>Commute</th>\n",
              "      <td>180.2</td>\n",
              "    </tr>\n",
              "    <tr>\n",
              "      <th>Customer Visit</th>\n",
              "      <td>2089.5</td>\n",
              "    </tr>\n",
              "    <tr>\n",
              "      <th>Errand/Supplies</th>\n",
              "      <td>508.0</td>\n",
              "    </tr>\n",
              "    <tr>\n",
              "      <th>Meal/Entertain</th>\n",
              "      <td>911.7</td>\n",
              "    </tr>\n",
              "    <tr>\n",
              "      <th>Meeting</th>\n",
              "      <td>2851.3</td>\n",
              "    </tr>\n",
              "    <tr>\n",
              "      <th>Moving</th>\n",
              "      <td>18.2</td>\n",
              "    </tr>\n",
              "    <tr>\n",
              "      <th>Temporary Site</th>\n",
              "      <td>523.7</td>\n",
              "    </tr>\n",
              "  </tbody>\n",
              "</table>\n",
              "</div>"
            ],
            "text/plain": [
              "                 MILES*\n",
              "PURPOSE*               \n",
              "Airport/Travel     16.5\n",
              "Between Offices   197.0\n",
              "Charity ($)        15.1\n",
              "Commute           180.2\n",
              "Customer Visit   2089.5\n",
              "Errand/Supplies   508.0\n",
              "Meal/Entertain    911.7\n",
              "Meeting          2851.3\n",
              "Moving             18.2\n",
              "Temporary Site    523.7"
            ]
          },
          "metadata": {
            "tags": []
          },
          "execution_count": 20
        }
      ]
    },
    {
      "cell_type": "markdown",
      "metadata": {
        "id": "CIZBaeSt199o"
      },
      "source": [
        "## Q21. Generate a plot showing count of trips vs category of trips. What can you infer from the plot (2 +1 points)\n",
        "#### Note: Use the original dataframe without dropping the 'NA' values."
      ]
    },
    {
      "cell_type": "code",
      "metadata": {
        "id": "KWFLeWnIfCZg"
      },
      "source": [
        "#trips=pd.DataFrame(uber_drives.groupby('PURPOSE*')['PURPOSE*'].count())\n",
        "#trips['PURPOSE*'][9]\n",
        "#sb.barplot(trips['PURPOSE*'].index,trips['PURPOSE*'],hue=trips['PURPOSE*'].index)"
      ],
      "execution_count": 21,
      "outputs": []
    },
    {
      "cell_type": "markdown",
      "metadata": {
        "id": "VgzSzOt9199t"
      },
      "source": [
        "## Q22. What percentage of Miles were clocked under Business Category and what percentage of Miles were clocked under Personal Category ? (3 points)\n",
        "\n",
        "### Note:Use the original dataframe without dropping the 'NA' values. \n"
      ]
    },
    {
      "cell_type": "code",
      "metadata": {
        "id": "9q2yKWAzfCZh",
        "colab": {
          "base_uri": "https://localhost:8080/"
        },
        "outputId": "c9af091f-506c-45ac-fa23-f4d021f30e5a"
      },
      "source": [
        "total_miles=uber_drives['MILES*'].sum()\n",
        "uber_drives['PURPOSE*'].unique()\n",
        "business=uber_drives[uber_drives['PURPOSE*']=='Between Offices'] #or uber_drives['PURPOSE*']=='Customer Visit']\n",
        "personal=uber_drives[uber_drives['PURPOSE*']=='Meal/Entertain'] #or uber_drives['PURPOSE*']=='Airport/Travel']\n",
        "B_miles=business['MILES*'].sum()\n",
        "P_miles=personal['MILES*'].sum()\n",
        "print('The percentage of miles in business is as follows:',(B_miles/total_miles)*100)\n",
        "print('The percentage of miles in personal is as follows:',(P_miles/total_miles)*100)"
      ],
      "execution_count": 22,
      "outputs": [
        {
          "output_type": "stream",
          "text": [
            "The percentage of miles in business is as follows: 1.6141322605225858\n",
            "The percentage of miles in personal is as follows: 7.470073004662138\n"
          ],
          "name": "stdout"
        }
      ]
    },
    {
      "cell_type": "markdown",
      "metadata": {
        "id": "_kYn6PGTUntA"
      },
      "source": [
        "***THE END***"
      ]
    }
  ]
}